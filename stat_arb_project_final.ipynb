{
 "cells": [
  {
   "cell_type": "markdown",
   "metadata": {},
   "source": [
    "# Statistical Arbitrage Project\n",
    "By Quanzhi (Allen) Bi, Zhaohe (Kevin) Huang, Wanyan (Wendy) Shao"
   ]
  },
  {
   "cell_type": "code",
   "execution_count": 1,
   "metadata": {
    "ExecuteTime": {
     "end_time": "2021-03-31T19:41:20.681417Z",
     "start_time": "2021-03-31T19:41:19.508765Z"
    },
    "execution": {
     "iopub.execute_input": "2021-04-04T17:43:53.591911Z",
     "iopub.status.busy": "2021-04-04T17:43:53.591825Z",
     "iopub.status.idle": "2021-04-04T17:43:54.099129Z",
     "shell.execute_reply": "2021-04-04T17:43:54.098854Z",
     "shell.execute_reply.started": "2021-04-04T17:43:53.591885Z"
    }
   },
   "outputs": [],
   "source": [
    "import matplotlib.pyplot as plt\n",
    "import numpy as np\n",
    "import pandas as pd\n",
    "from scipy.stats import norm, skew, kurtosis, ttest_1samp"
   ]
  },
  {
   "cell_type": "markdown",
   "metadata": {},
   "source": [
    "# Data"
   ]
  },
  {
   "cell_type": "markdown",
   "metadata": {},
   "source": [
    "Data are downloaded from the [**WRDS**](https://wrds-www.wharton.upenn.edu) (Wharton Research Data Services) database using Python API and web interface. Data from different vendors under WRDS are merged using provided link table. The stock pool is all the constitutes of S&P 500 Index. The time period is from 2007-01-01 to 2020-12-31. It stops at 2020 due to the availability of data in the database. The description of the variables are summarized below. "
   ]
  },
  {
   "cell_type": "markdown",
   "metadata": {},
   "source": [
    "| Vendor | Variable | Description |\n",
    "| :----: | :----: | :----: |\n",
    "| CRSP - Daily Stock File | prc | daily close price |\n",
    "| CRSP - Daily Stock File | vol | daily shares of volume |\n",
    "| CRSP - Daily Stock File | ret | daily holding return |\n",
    "| CRSP - Beta Suite  | beta | daily market beta of CAPM model using 252-day estimation window |\n",
    "| Compustat | gsector | GISC sector |"
   ]
  },
  {
   "cell_type": "markdown",
   "metadata": {},
   "source": [
    "One thing that needs to mention here is the choice of industry classification method. [**GICS**](https://www.msci.com/gics) (The Global Industry Classification Standard) is a four-tiered, hierarchical industry classification system developed by MSCI and S&P Dow Jones Indices. It consists of 11 sectors, 24 industry groups, 69 industries and 158 sub-industries. We choose GICS sector as the industry identifier. **The number of sectors is appropriate. Each sector contains a proper number of companies in the S&P 500 Index, which guarantees sufficient data points in the following regressions to produce reliable results.**  \n",
    "Another popular industry classification method is [**SIC**](https://en.wikipedia.org/wiki/Standard_Industrial_Classification) (Standard Industrial Classification). The SIC system divides the companies into 83 2-digit major groups. These groups are further subdivided into 416 3-digit industry groups, and finally dis-aggregated into 1005 4-digit industries. Even the number of major groups is too large for our stock pool. It's better to deploy SIC code in larger stock pool like Russell 2000 Index. An alternative methods here is to use custom high-level industry categories based on SIC code, like [**Fama-French 17 industries**](https://mba.tuck.dartmouth.edu/pages/faculty/ken.french/Data_Library/det_17_ind_port.html)."
   ]
  },
  {
   "cell_type": "code",
   "execution_count": 2,
   "metadata": {
    "ExecuteTime": {
     "end_time": "2021-03-31T19:42:10.246359Z",
     "start_time": "2021-03-31T19:41:20.683790Z"
    },
    "execution": {
     "iopub.execute_input": "2021-04-04T17:43:54.099648Z",
     "iopub.status.busy": "2021-04-04T17:43:54.099583Z",
     "iopub.status.idle": "2021-04-04T17:44:17.228867Z",
     "shell.execute_reply": "2021-04-04T17:44:17.228601Z",
     "shell.execute_reply.started": "2021-04-04T17:43:54.099639Z"
    }
   },
   "outputs": [],
   "source": [
    "# read crsp data\n",
    "crsp = pd.read_pickle('https://github.com/kevinhzh/stat-arb-project/raw/main/data/crsp.pkl')\n",
    "\n",
    "# read beta data\n",
    "beta = pd.read_pickle('https://github.com/kevinhzh/stat-arb-project/raw/main/data/beta.pkl')\n",
    "beta.set_index(['permno', 'date'], inplace=True)\n",
    "for permno, permno_df in beta.groupby(level=0):\n",
    "    beta.loc[(permno, slice(None)), 'beta_lag_1d'] = permno_df['beta'].shift(1)\n",
    "beta.drop(labels='beta', axis=1, inplace=True)\n",
    "beta.reset_index(inplace=True)\n",
    "\n",
    "# merge data\n",
    "sp500 = crsp.merge(beta, how='left', on=['permno', 'date'])\n",
    "sp500.sort_values(by=['date', 'permno'], inplace=True)\n",
    "sp500.set_index(['date', 'permno'], inplace=True)\n",
    "del crsp, beta"
   ]
  },
  {
   "cell_type": "code",
   "execution_count": 3,
   "metadata": {
    "ExecuteTime": {
     "end_time": "2021-03-31T19:42:10.266550Z",
     "start_time": "2021-03-31T19:42:10.249201Z"
    },
    "execution": {
     "iopub.execute_input": "2021-04-04T17:44:17.229415Z",
     "iopub.status.busy": "2021-04-04T17:44:17.229345Z",
     "iopub.status.idle": "2021-04-04T17:44:17.237192Z",
     "shell.execute_reply": "2021-04-04T17:44:17.236971Z",
     "shell.execute_reply.started": "2021-04-04T17:44:17.229406Z"
    }
   },
   "outputs": [
    {
     "data": {
      "text/html": [
       "<div>\n",
       "<style scoped>\n",
       "    .dataframe tbody tr th:only-of-type {\n",
       "        vertical-align: middle;\n",
       "    }\n",
       "\n",
       "    .dataframe tbody tr th {\n",
       "        vertical-align: top;\n",
       "    }\n",
       "\n",
       "    .dataframe thead th {\n",
       "        text-align: right;\n",
       "    }\n",
       "</style>\n",
       "<table border=\"1\" class=\"dataframe\">\n",
       "  <thead>\n",
       "    <tr style=\"text-align: right;\">\n",
       "      <th></th>\n",
       "      <th></th>\n",
       "      <th>prc</th>\n",
       "      <th>vol</th>\n",
       "      <th>ret</th>\n",
       "      <th>gsector</th>\n",
       "      <th>beta_lag_1d</th>\n",
       "    </tr>\n",
       "    <tr>\n",
       "      <th>date</th>\n",
       "      <th>permno</th>\n",
       "      <th></th>\n",
       "      <th></th>\n",
       "      <th></th>\n",
       "      <th></th>\n",
       "      <th></th>\n",
       "    </tr>\n",
       "  </thead>\n",
       "  <tbody>\n",
       "    <tr>\n",
       "      <th rowspan=\"5\" valign=\"top\">2020-12-31</th>\n",
       "      <th>93089</th>\n",
       "      <td>207.589996</td>\n",
       "      <td>356285.0</td>\n",
       "      <td>0.008796</td>\n",
       "      <td>20</td>\n",
       "      <td>0.9363</td>\n",
       "    </tr>\n",
       "    <tr>\n",
       "      <th>93096</th>\n",
       "      <td>210.300003</td>\n",
       "      <td>1396248.0</td>\n",
       "      <td>0.001763</td>\n",
       "      <td>25</td>\n",
       "      <td>0.4930</td>\n",
       "    </tr>\n",
       "    <tr>\n",
       "      <th>93132</th>\n",
       "      <td>148.529999</td>\n",
       "      <td>482005.0</td>\n",
       "      <td>0.003445</td>\n",
       "      <td>45</td>\n",
       "      <td>1.0287</td>\n",
       "    </tr>\n",
       "    <tr>\n",
       "      <th>93429</th>\n",
       "      <td>93.120003</td>\n",
       "      <td>547634.0</td>\n",
       "      <td>0.005398</td>\n",
       "      <td>40</td>\n",
       "      <td>0.7735</td>\n",
       "    </tr>\n",
       "    <tr>\n",
       "      <th>93436</th>\n",
       "      <td>705.669983</td>\n",
       "      <td>49544141.0</td>\n",
       "      <td>0.015674</td>\n",
       "      <td>25</td>\n",
       "      <td>1.3043</td>\n",
       "    </tr>\n",
       "  </tbody>\n",
       "</table>\n",
       "</div>"
      ],
      "text/plain": [
       "                          prc         vol       ret  gsector  beta_lag_1d\n",
       "date       permno                                                        \n",
       "2020-12-31 93089   207.589996    356285.0  0.008796       20       0.9363\n",
       "           93096   210.300003   1396248.0  0.001763       25       0.4930\n",
       "           93132   148.529999    482005.0  0.003445       45       1.0287\n",
       "           93429    93.120003    547634.0  0.005398       40       0.7735\n",
       "           93436   705.669983  49544141.0  0.015674       25       1.3043"
      ]
     },
     "execution_count": 3,
     "metadata": {},
     "output_type": "execute_result"
    }
   ],
   "source": [
    "sp500.tail()"
   ]
  },
  {
   "cell_type": "markdown",
   "metadata": {},
   "source": [
    "# Generate market_industry neutral stock return"
   ]
  },
  {
   "cell_type": "markdown",
   "metadata": {},
   "source": [
    "## Run linear factor model"
   ]
  },
  {
   "cell_type": "markdown",
   "metadata": {},
   "source": [
    "Cross-sectional regressions are run at each date to calculate the market factor return and industry factor return. The formula is as follows.\n",
    "$$R = \\beta_{mkt} F_{mkt} + \\beta_{ind_{1}} F_{ind_{1}} + ... + \\beta_{ind_{11}} F_{ind_{11}} + \\epsilon$$\n",
    "where $R$ is the return of each stock at date $t$, $\\beta_{mkt}$ is the market beta of each stock, and $\\beta_{ind_{i}}$ is the industry exposure which takes 1 if a stock belongs to industry $i$ and 0 otherwise. Since all industry exposures add up to ones, there is no need to include the intercept. Note that $\\beta_{mkt}$ here is calculated using the data in the past 252 days excluding the date $t$. This is to avoid look-ahead bias and ensure all factor loadings are known before date $t$.  \n",
    "The coefficients of the regression are the market and industry factor returns. Therefore, the residuals serve as the market-and-industry neutral return. The result is saved as the starting point for the following parts.  \n",
    "To speed up the calculation, inverse matrix formula is used here to calculate the coefficients of the regression rather than using existed packages."
   ]
  },
  {
   "cell_type": "code",
   "execution_count": 4,
   "metadata": {
    "ExecuteTime": {
     "end_time": "2021-03-31T19:44:15.960055Z",
     "start_time": "2021-03-31T19:42:10.268763Z"
    },
    "execution": {
     "iopub.execute_input": "2021-04-04T17:44:17.237711Z",
     "iopub.status.busy": "2021-04-04T17:44:17.237642Z",
     "iopub.status.idle": "2021-04-04T17:45:09.387225Z",
     "shell.execute_reply": "2021-04-04T17:45:09.386786Z",
     "shell.execute_reply.started": "2021-04-04T17:44:17.237703Z"
    },
    "tags": []
   },
   "outputs": [
    {
     "name": "stderr",
     "output_type": "stream",
     "text": [
      "100%|██████████| 3525/3525 [00:52<00:00, 67.73it/s]\n"
     ]
    }
   ],
   "source": [
    "from tqdm import tqdm\n",
    "\n",
    "# Run linear factor model cross-sectionally at each date\n",
    "for date, date_df in tqdm(sp500.groupby(level=0)):\n",
    "    \n",
    "    # construct X and y\n",
    "    X = pd.concat([pd.get_dummies(date_df['gsector']), date_df['beta_lag_1d']], axis=1)\n",
    "    y = date_df['ret']\n",
    "    \n",
    "    # exclude missing values in linear regression\n",
    "    nan_index = (date_df['beta_lag_1d'].isna() | date_df['ret'].isna())\n",
    "    X = X.loc[~nan_index].values\n",
    "    y = y.loc[~nan_index].values\n",
    "    \n",
    "    # calculate residuals\n",
    "    if len(y) > 0:\n",
    "        params = np.linalg.inv((X.T.dot(X))).dot(X.T).dot(y)\n",
    "        res = y - X.dot(params)\n",
    "        date_df.loc[~nan_index, 'neu_ret'] = res\n",
    "        date_df.loc[nan_index, 'neu_ret'] = np.nan\n",
    "        sp500.loc[(date, slice(None)), 'neu_ret'] = date_df['neu_ret']\n",
    "    else:\n",
    "        sp500.loc[(date, slice(None)), 'neu_ret'] = np.nan"
   ]
  },
  {
   "cell_type": "code",
   "execution_count": 5,
   "metadata": {
    "ExecuteTime": {
     "end_time": "2021-03-31T19:44:15.975033Z",
     "start_time": "2021-03-31T19:44:15.962109Z"
    },
    "execution": {
     "iopub.execute_input": "2021-04-04T17:45:09.387933Z",
     "iopub.status.busy": "2021-04-04T17:45:09.387858Z",
     "iopub.status.idle": "2021-04-04T17:45:09.393663Z",
     "shell.execute_reply": "2021-04-04T17:45:09.393147Z",
     "shell.execute_reply.started": "2021-04-04T17:45:09.387923Z"
    }
   },
   "outputs": [
    {
     "data": {
      "text/html": [
       "<div>\n",
       "<style scoped>\n",
       "    .dataframe tbody tr th:only-of-type {\n",
       "        vertical-align: middle;\n",
       "    }\n",
       "\n",
       "    .dataframe tbody tr th {\n",
       "        vertical-align: top;\n",
       "    }\n",
       "\n",
       "    .dataframe thead th {\n",
       "        text-align: right;\n",
       "    }\n",
       "</style>\n",
       "<table border=\"1\" class=\"dataframe\">\n",
       "  <thead>\n",
       "    <tr style=\"text-align: right;\">\n",
       "      <th></th>\n",
       "      <th></th>\n",
       "      <th>prc</th>\n",
       "      <th>vol</th>\n",
       "      <th>ret</th>\n",
       "      <th>gsector</th>\n",
       "      <th>beta_lag_1d</th>\n",
       "      <th>neu_ret</th>\n",
       "    </tr>\n",
       "    <tr>\n",
       "      <th>date</th>\n",
       "      <th>permno</th>\n",
       "      <th></th>\n",
       "      <th></th>\n",
       "      <th></th>\n",
       "      <th></th>\n",
       "      <th></th>\n",
       "      <th></th>\n",
       "    </tr>\n",
       "  </thead>\n",
       "  <tbody>\n",
       "    <tr>\n",
       "      <th rowspan=\"5\" valign=\"top\">2020-12-31</th>\n",
       "      <th>93089</th>\n",
       "      <td>207.589996</td>\n",
       "      <td>356285.0</td>\n",
       "      <td>0.008796</td>\n",
       "      <td>20</td>\n",
       "      <td>0.9363</td>\n",
       "      <td>0.002612</td>\n",
       "    </tr>\n",
       "    <tr>\n",
       "      <th>93096</th>\n",
       "      <td>210.300003</td>\n",
       "      <td>1396248.0</td>\n",
       "      <td>0.001763</td>\n",
       "      <td>25</td>\n",
       "      <td>0.4930</td>\n",
       "      <td>0.002214</td>\n",
       "    </tr>\n",
       "    <tr>\n",
       "      <th>93132</th>\n",
       "      <td>148.529999</td>\n",
       "      <td>482005.0</td>\n",
       "      <td>0.003445</td>\n",
       "      <td>45</td>\n",
       "      <td>1.0287</td>\n",
       "      <td>-0.006833</td>\n",
       "    </tr>\n",
       "    <tr>\n",
       "      <th>93429</th>\n",
       "      <td>93.120003</td>\n",
       "      <td>547634.0</td>\n",
       "      <td>0.005398</td>\n",
       "      <td>40</td>\n",
       "      <td>0.7735</td>\n",
       "      <td>-0.009179</td>\n",
       "    </tr>\n",
       "    <tr>\n",
       "      <th>93436</th>\n",
       "      <td>705.669983</td>\n",
       "      <td>49544141.0</td>\n",
       "      <td>0.015674</td>\n",
       "      <td>25</td>\n",
       "      <td>1.3043</td>\n",
       "      <td>0.018373</td>\n",
       "    </tr>\n",
       "  </tbody>\n",
       "</table>\n",
       "</div>"
      ],
      "text/plain": [
       "                          prc         vol       ret  gsector  beta_lag_1d  \\\n",
       "date       permno                                                           \n",
       "2020-12-31 93089   207.589996    356285.0  0.008796       20       0.9363   \n",
       "           93096   210.300003   1396248.0  0.001763       25       0.4930   \n",
       "           93132   148.529999    482005.0  0.003445       45       1.0287   \n",
       "           93429    93.120003    547634.0  0.005398       40       0.7735   \n",
       "           93436   705.669983  49544141.0  0.015674       25       1.3043   \n",
       "\n",
       "                    neu_ret  \n",
       "date       permno            \n",
       "2020-12-31 93089   0.002612  \n",
       "           93096   0.002214  \n",
       "           93132  -0.006833  \n",
       "           93429  -0.009179  \n",
       "           93436   0.018373  "
      ]
     },
     "execution_count": 5,
     "metadata": {},
     "output_type": "execute_result"
    }
   ],
   "source": [
    "sp500.tail()"
   ]
  },
  {
   "cell_type": "markdown",
   "metadata": {
    "ExecuteTime": {
     "end_time": "2021-03-30T01:34:59.695273Z",
     "start_time": "2021-03-30T01:34:59.646795Z"
    }
   },
   "source": [
    "## Calculate aggregated summary statistics"
   ]
  },
  {
   "cell_type": "markdown",
   "metadata": {},
   "source": [
    "Aggregated summary statistics of $ret$ and $neu\\_ret$ are reported below.  \n",
    "Let's first have a look at the raw returns. $ret$ has a positive mean value because of the bullish market in the past 10 years. The positive skewness might result from the same reason. $ret$ also has a kurtosis larger than 3, indicating the fat-tail feature of its distribution.  \n",
    "Compared to the raw return, market-and-industry neutral returns show almost zero mean value. This is trivial because of the property of residuals. The volatility of $neu\\_ret$ is also smaller. Since the majority of values is concentrated near zero, the kurtosis of $neu\\_ret$ is also significantly larger."
   ]
  },
  {
   "cell_type": "code",
   "execution_count": 6,
   "metadata": {
    "ExecuteTime": {
     "end_time": "2021-03-31T19:44:16.911203Z",
     "start_time": "2021-03-31T19:44:15.979425Z"
    },
    "execution": {
     "iopub.execute_input": "2021-04-04T17:45:09.396136Z",
     "iopub.status.busy": "2021-04-04T17:45:09.396031Z",
     "iopub.status.idle": "2021-04-04T17:45:09.911481Z",
     "shell.execute_reply": "2021-04-04T17:45:09.911159Z",
     "shell.execute_reply.started": "2021-04-04T17:45:09.396124Z"
    },
    "tags": []
   },
   "outputs": [],
   "source": [
    "agg_stats = pd.DataFrame(sp500[['ret', 'neu_ret']].describe())\n",
    "for name in ['ret', 'neu_ret']:\n",
    "    agg_stats.loc['skew', name] = skew(sp500[name], nan_policy='omit')\n",
    "    agg_stats.loc['kurt', name] = kurtosis(sp500[name], nan_policy='omit')"
   ]
  },
  {
   "cell_type": "code",
   "execution_count": 7,
   "metadata": {
    "ExecuteTime": {
     "end_time": "2021-03-31T19:44:16.921841Z",
     "start_time": "2021-03-31T19:44:16.914271Z"
    },
    "execution": {
     "iopub.execute_input": "2021-04-04T17:45:09.912962Z",
     "iopub.status.busy": "2021-04-04T17:45:09.912879Z",
     "iopub.status.idle": "2021-04-04T17:45:09.917371Z",
     "shell.execute_reply": "2021-04-04T17:45:09.916887Z",
     "shell.execute_reply.started": "2021-04-04T17:45:09.912952Z"
    },
    "tags": []
   },
   "outputs": [
    {
     "data": {
      "text/html": [
       "<div>\n",
       "<style scoped>\n",
       "    .dataframe tbody tr th:only-of-type {\n",
       "        vertical-align: middle;\n",
       "    }\n",
       "\n",
       "    .dataframe tbody tr th {\n",
       "        vertical-align: top;\n",
       "    }\n",
       "\n",
       "    .dataframe thead th {\n",
       "        text-align: right;\n",
       "    }\n",
       "</style>\n",
       "<table border=\"1\" class=\"dataframe\">\n",
       "  <thead>\n",
       "    <tr style=\"text-align: right;\">\n",
       "      <th></th>\n",
       "      <th>ret</th>\n",
       "      <th>neu_ret</th>\n",
       "    </tr>\n",
       "  </thead>\n",
       "  <tbody>\n",
       "    <tr>\n",
       "      <th>count</th>\n",
       "      <td>1.765411e+06</td>\n",
       "      <td>1.759539e+06</td>\n",
       "    </tr>\n",
       "    <tr>\n",
       "      <th>mean</th>\n",
       "      <td>4.929028e-04</td>\n",
       "      <td>1.453606e-19</td>\n",
       "    </tr>\n",
       "    <tr>\n",
       "      <th>std</th>\n",
       "      <td>2.403430e-02</td>\n",
       "      <td>1.648976e-02</td>\n",
       "    </tr>\n",
       "    <tr>\n",
       "      <th>min</th>\n",
       "      <td>-9.424658e-01</td>\n",
       "      <td>-8.634333e-01</td>\n",
       "    </tr>\n",
       "    <tr>\n",
       "      <th>25%</th>\n",
       "      <td>-8.708239e-03</td>\n",
       "      <td>-6.193024e-03</td>\n",
       "    </tr>\n",
       "    <tr>\n",
       "      <th>50%</th>\n",
       "      <td>5.907682e-04</td>\n",
       "      <td>-1.186642e-04</td>\n",
       "    </tr>\n",
       "    <tr>\n",
       "      <th>75%</th>\n",
       "      <td>9.810749e-03</td>\n",
       "      <td>6.008256e-03</td>\n",
       "    </tr>\n",
       "    <tr>\n",
       "      <th>max</th>\n",
       "      <td>1.023578e+00</td>\n",
       "      <td>9.223969e-01</td>\n",
       "    </tr>\n",
       "    <tr>\n",
       "      <th>skew</th>\n",
       "      <td>5.538470e-01</td>\n",
       "      <td>8.104522e-01</td>\n",
       "    </tr>\n",
       "    <tr>\n",
       "      <th>kurt</th>\n",
       "      <td>4.920061e+01</td>\n",
       "      <td>1.061381e+02</td>\n",
       "    </tr>\n",
       "  </tbody>\n",
       "</table>\n",
       "</div>"
      ],
      "text/plain": [
       "                ret       neu_ret\n",
       "count  1.765411e+06  1.759539e+06\n",
       "mean   4.929028e-04  1.453606e-19\n",
       "std    2.403430e-02  1.648976e-02\n",
       "min   -9.424658e-01 -8.634333e-01\n",
       "25%   -8.708239e-03 -6.193024e-03\n",
       "50%    5.907682e-04 -1.186642e-04\n",
       "75%    9.810749e-03  6.008256e-03\n",
       "max    1.023578e+00  9.223969e-01\n",
       "skew   5.538470e-01  8.104522e-01\n",
       "kurt   4.920061e+01  1.061381e+02"
      ]
     },
     "execution_count": 7,
     "metadata": {},
     "output_type": "execute_result"
    }
   ],
   "source": [
    "agg_stats"
   ]
  },
  {
   "cell_type": "markdown",
   "metadata": {},
   "source": [
    "## Plot histogram"
   ]
  },
  {
   "cell_type": "markdown",
   "metadata": {},
   "source": [
    "The histograms further confirm our observations in the descriptive statistics. The distribution of $neu\\_ret$ is more centered near zero. The positive skewness and excess kurtosis also indicate that $neu\\_ret$ does not follow normal distribution. Therefore, we need to cross-sectionally normalize the momentum factor loadings before we run the regression in the next part."
   ]
  },
  {
   "cell_type": "code",
   "execution_count": 8,
   "metadata": {
    "ExecuteTime": {
     "end_time": "2021-03-31T19:44:17.570046Z",
     "start_time": "2021-03-31T19:44:16.923567Z"
    },
    "execution": {
     "iopub.execute_input": "2021-04-04T17:45:09.918102Z",
     "iopub.status.busy": "2021-04-04T17:45:09.918020Z",
     "iopub.status.idle": "2021-04-04T17:45:10.181197Z",
     "shell.execute_reply": "2021-04-04T17:45:10.180892Z",
     "shell.execute_reply.started": "2021-04-04T17:45:09.918092Z"
    }
   },
   "outputs": [
    {
     "data": {
      "image/png": "[encoded data removed]",
      "text/plain": [
       "<Figure size 1080x360 with 2 Axes>"
      ]
     },
     "metadata": {
      "needs_background": "light"
     },
     "output_type": "display_data"
    }
   ],
   "source": [
    "# plot the histogram of ret and neu_ret\n",
    "fig, axes = plt.subplots(nrows=1, ncols=2, sharex=True, sharey=True, figsize=(15, 5))\n",
    "for i, name in enumerate(['ret', 'neu_ret']):\n",
    "    axes[i].hist(sp500[name], bins=100, range=(-0.1, 0.1))\n",
    "    axes[i].set_xlabel(name)\n",
    "    axes[i].set_ylabel('frequency')\n",
    "    axes[i].set_title(f'histogram of {name}')\n",
    "plt.show()"
   ]
  },
  {
   "cell_type": "markdown",
   "metadata": {},
   "source": [
    "# Build a momentum factor"
   ]
  },
  {
   "cell_type": "code",
   "execution_count": 9,
   "metadata": {
    "ExecuteTime": {
     "end_time": "2021-03-31T19:44:21.690580Z",
     "start_time": "2021-03-31T19:44:17.572398Z"
    },
    "execution": {
     "iopub.execute_input": "2021-04-04T17:45:10.181913Z",
     "iopub.status.busy": "2021-04-04T17:45:10.181817Z",
     "iopub.status.idle": "2021-04-04T17:45:12.452881Z",
     "shell.execute_reply": "2021-04-04T17:45:12.452538Z",
     "shell.execute_reply.started": "2021-04-04T17:45:10.181904Z"
    }
   },
   "outputs": [],
   "source": [
    "# read data\n",
    "sp500 = pd.read_pickle('https://github.com/kevinhzh/stat-arb-project/raw/main/data/sp500.pkl')"
   ]
  },
  {
   "cell_type": "markdown",
   "metadata": {},
   "source": [
    "## Calculate 1 year trailing market_industry neutral stock returns"
   ]
  },
  {
   "cell_type": "markdown",
   "metadata": {},
   "source": [
    "The loadings of momentum factor is calculated as the 1 year trailing market-and-industry neutral returns. More specifically, the momentum factor loading of a stock at date $t$ is the cumulative return of market-and-industry neutral returns in the past 252 trading days excluding the date $t$. To have a 1 year trailing return at date $t$, a stock must have returns at date $t-252$ and date $t-1$."
   ]
  },
  {
   "cell_type": "code",
   "execution_count": 10,
   "metadata": {
    "ExecuteTime": {
     "end_time": "2021-03-31T19:44:21.697057Z",
     "start_time": "2021-03-31T19:44:21.693162Z"
    },
    "execution": {
     "iopub.execute_input": "2021-04-04T17:45:12.453668Z",
     "iopub.status.busy": "2021-04-04T17:45:12.453567Z",
     "iopub.status.idle": "2021-04-04T17:45:12.456108Z",
     "shell.execute_reply": "2021-04-04T17:45:12.455773Z",
     "shell.execute_reply.started": "2021-04-04T17:45:12.453655Z"
    }
   },
   "outputs": [],
   "source": [
    "def calc_1Y_ret(arr):\n",
    "    if (len(arr)!=252) or np.isnan(arr[0]) or np.isnan(arr[-1]):\n",
    "        return np.nan\n",
    "    else:\n",
    "        return np.nanprod(arr + 1) - 1"
   ]
  },
  {
   "cell_type": "code",
   "execution_count": 11,
   "metadata": {
    "ExecuteTime": {
     "end_time": "2021-03-31T19:45:26.976507Z",
     "start_time": "2021-03-31T19:44:21.699469Z"
    },
    "execution": {
     "iopub.execute_input": "2021-04-04T17:45:12.456798Z",
     "iopub.status.busy": "2021-04-04T17:45:12.456706Z",
     "iopub.status.idle": "2021-04-04T17:45:40.861757Z",
     "shell.execute_reply": "2021-04-04T17:45:40.861491Z",
     "shell.execute_reply.started": "2021-04-04T17:45:12.456786Z"
    }
   },
   "outputs": [
    {
     "name": "stderr",
     "output_type": "stream",
     "text": [
      "100%|██████████| 831/831 [00:27<00:00, 30.06it/s]\n"
     ]
    }
   ],
   "source": [
    "# set multiindex to make the iteration over stocks easier\n",
    "sp500.reset_index(inplace=True)\n",
    "sp500.sort_values(by=['permno', 'date'], inplace=True)\n",
    "sp500.set_index(['permno', 'date'], inplace=True)\n",
    "\n",
    "# Calculate 1 year trailing market_industry neutral stock returns\n",
    "for permno, permno_df in tqdm(sp500.groupby(level=0)):\n",
    "    neu_ret_mom_df = permno_df['neu_ret'].rolling(window=252, min_periods=2, closed='left').apply(func=calc_1Y_ret, raw=True)\n",
    "    sp500.loc[(permno, slice(None)), 'neu_ret_mom'] = neu_ret_mom_df\n",
    "\n",
    "# recover the multiindex\n",
    "sp500.reset_index(inplace=True)\n",
    "sp500.sort_values(by=['date', 'permno'], inplace=True)\n",
    "sp500.set_index(['date', 'permno'], inplace=True)"
   ]
  },
  {
   "cell_type": "code",
   "execution_count": 12,
   "metadata": {
    "ExecuteTime": {
     "end_time": "2021-03-31T19:45:26.991796Z",
     "start_time": "2021-03-31T19:45:26.978829Z"
    },
    "execution": {
     "iopub.execute_input": "2021-04-04T17:45:40.862376Z",
     "iopub.status.busy": "2021-04-04T17:45:40.862300Z",
     "iopub.status.idle": "2021-04-04T17:45:40.867331Z",
     "shell.execute_reply": "2021-04-04T17:45:40.867095Z",
     "shell.execute_reply.started": "2021-04-04T17:45:40.862367Z"
    }
   },
   "outputs": [
    {
     "data": {
      "text/html": [
       "<div>\n",
       "<style scoped>\n",
       "    .dataframe tbody tr th:only-of-type {\n",
       "        vertical-align: middle;\n",
       "    }\n",
       "\n",
       "    .dataframe tbody tr th {\n",
       "        vertical-align: top;\n",
       "    }\n",
       "\n",
       "    .dataframe thead th {\n",
       "        text-align: right;\n",
       "    }\n",
       "</style>\n",
       "<table border=\"1\" class=\"dataframe\">\n",
       "  <thead>\n",
       "    <tr style=\"text-align: right;\">\n",
       "      <th></th>\n",
       "      <th></th>\n",
       "      <th>prc</th>\n",
       "      <th>vol</th>\n",
       "      <th>ret</th>\n",
       "      <th>gsector</th>\n",
       "      <th>beta_lag_1d</th>\n",
       "      <th>neu_ret</th>\n",
       "      <th>neu_ret_mom</th>\n",
       "    </tr>\n",
       "    <tr>\n",
       "      <th>date</th>\n",
       "      <th>permno</th>\n",
       "      <th></th>\n",
       "      <th></th>\n",
       "      <th></th>\n",
       "      <th></th>\n",
       "      <th></th>\n",
       "      <th></th>\n",
       "      <th></th>\n",
       "    </tr>\n",
       "  </thead>\n",
       "  <tbody>\n",
       "    <tr>\n",
       "      <th rowspan=\"5\" valign=\"top\">2020-12-31</th>\n",
       "      <th>93089</th>\n",
       "      <td>207.589996</td>\n",
       "      <td>356285.0</td>\n",
       "      <td>0.008796</td>\n",
       "      <td>20</td>\n",
       "      <td>0.9363</td>\n",
       "      <td>0.002612</td>\n",
       "      <td>0.098867</td>\n",
       "    </tr>\n",
       "    <tr>\n",
       "      <th>93096</th>\n",
       "      <td>210.300003</td>\n",
       "      <td>1396248.0</td>\n",
       "      <td>0.001763</td>\n",
       "      <td>25</td>\n",
       "      <td>0.4930</td>\n",
       "      <td>0.002214</td>\n",
       "      <td>0.424564</td>\n",
       "    </tr>\n",
       "    <tr>\n",
       "      <th>93132</th>\n",
       "      <td>148.529999</td>\n",
       "      <td>482005.0</td>\n",
       "      <td>0.003445</td>\n",
       "      <td>45</td>\n",
       "      <td>1.0287</td>\n",
       "      <td>-0.006833</td>\n",
       "      <td>0.125918</td>\n",
       "    </tr>\n",
       "    <tr>\n",
       "      <th>93429</th>\n",
       "      <td>93.120003</td>\n",
       "      <td>547634.0</td>\n",
       "      <td>0.005398</td>\n",
       "      <td>40</td>\n",
       "      <td>0.7735</td>\n",
       "      <td>-0.009179</td>\n",
       "      <td>-0.284247</td>\n",
       "    </tr>\n",
       "    <tr>\n",
       "      <th>93436</th>\n",
       "      <td>705.669983</td>\n",
       "      <td>49544141.0</td>\n",
       "      <td>0.015674</td>\n",
       "      <td>25</td>\n",
       "      <td>1.3043</td>\n",
       "      <td>0.018373</td>\n",
       "      <td>NaN</td>\n",
       "    </tr>\n",
       "  </tbody>\n",
       "</table>\n",
       "</div>"
      ],
      "text/plain": [
       "                          prc         vol       ret  gsector  beta_lag_1d  \\\n",
       "date       permno                                                           \n",
       "2020-12-31 93089   207.589996    356285.0  0.008796       20       0.9363   \n",
       "           93096   210.300003   1396248.0  0.001763       25       0.4930   \n",
       "           93132   148.529999    482005.0  0.003445       45       1.0287   \n",
       "           93429    93.120003    547634.0  0.005398       40       0.7735   \n",
       "           93436   705.669983  49544141.0  0.015674       25       1.3043   \n",
       "\n",
       "                    neu_ret  neu_ret_mom  \n",
       "date       permno                         \n",
       "2020-12-31 93089   0.002612     0.098867  \n",
       "           93096   0.002214     0.424564  \n",
       "           93132  -0.006833     0.125918  \n",
       "           93429  -0.009179    -0.284247  \n",
       "           93436   0.018373          NaN  "
      ]
     },
     "execution_count": 12,
     "metadata": {},
     "output_type": "execute_result"
    }
   ],
   "source": [
    "sp500.tail()"
   ]
  },
  {
   "cell_type": "markdown",
   "metadata": {},
   "source": [
    "## Cross-sectional normalization"
   ]
  },
  {
   "cell_type": "markdown",
   "metadata": {},
   "source": [
    "To avoid extremely fat-tailed data, cross-sectional normalization is necessary before regression.  \n",
    "Normalization refers to a robust procedure by which the data is converted to ranks and passed through the inverse CDF of a standard normal distribution. It preserves the order, but reshapes the data to appear normally distributed."
   ]
  },
  {
   "cell_type": "code",
   "execution_count": 13,
   "metadata": {
    "ExecuteTime": {
     "end_time": "2021-03-31T19:47:05.077683Z",
     "start_time": "2021-03-31T19:45:26.994120Z"
    },
    "execution": {
     "iopub.execute_input": "2021-04-04T17:45:40.867853Z",
     "iopub.status.busy": "2021-04-04T17:45:40.867792Z",
     "iopub.status.idle": "2021-04-04T17:46:19.394654Z",
     "shell.execute_reply": "2021-04-04T17:46:19.394402Z",
     "shell.execute_reply.started": "2021-04-04T17:45:40.867844Z"
    }
   },
   "outputs": [
    {
     "name": "stderr",
     "output_type": "stream",
     "text": [
      "100%|██████████| 3525/3525 [00:38<00:00, 91.77it/s]\n"
     ]
    }
   ],
   "source": [
    "# Cross-sectional normalization\n",
    "for date, date_df in tqdm(sp500.groupby(level=0)):\n",
    "    neu_ret_mom_rank = date_df['neu_ret_mom'].rank(method='dense')\n",
    "    neu_ret_mom_rank = neu_ret_mom_rank / (neu_ret_mom_rank.max() + 1) # avoid converting 1 into inf\n",
    "    sp500.loc[(date, slice(None)), 'beta_mom_lag_1d'] = norm.ppf(neu_ret_mom_rank)"
   ]
  },
  {
   "cell_type": "code",
   "execution_count": 14,
   "metadata": {
    "ExecuteTime": {
     "end_time": "2021-03-31T19:47:05.093796Z",
     "start_time": "2021-03-31T19:47:05.080088Z"
    },
    "execution": {
     "iopub.execute_input": "2021-04-04T17:46:19.395241Z",
     "iopub.status.busy": "2021-04-04T17:46:19.395171Z",
     "iopub.status.idle": "2021-04-04T17:46:19.400249Z",
     "shell.execute_reply": "2021-04-04T17:46:19.400001Z",
     "shell.execute_reply.started": "2021-04-04T17:46:19.395232Z"
    }
   },
   "outputs": [
    {
     "data": {
      "text/html": [
       "<div>\n",
       "<style scoped>\n",
       "    .dataframe tbody tr th:only-of-type {\n",
       "        vertical-align: middle;\n",
       "    }\n",
       "\n",
       "    .dataframe tbody tr th {\n",
       "        vertical-align: top;\n",
       "    }\n",
       "\n",
       "    .dataframe thead th {\n",
       "        text-align: right;\n",
       "    }\n",
       "</style>\n",
       "<table border=\"1\" class=\"dataframe\">\n",
       "  <thead>\n",
       "    <tr style=\"text-align: right;\">\n",
       "      <th></th>\n",
       "      <th></th>\n",
       "      <th>prc</th>\n",
       "      <th>vol</th>\n",
       "      <th>ret</th>\n",
       "      <th>gsector</th>\n",
       "      <th>beta_lag_1d</th>\n",
       "      <th>neu_ret</th>\n",
       "      <th>neu_ret_mom</th>\n",
       "      <th>beta_mom_lag_1d</th>\n",
       "    </tr>\n",
       "    <tr>\n",
       "      <th>date</th>\n",
       "      <th>permno</th>\n",
       "      <th></th>\n",
       "      <th></th>\n",
       "      <th></th>\n",
       "      <th></th>\n",
       "      <th></th>\n",
       "      <th></th>\n",
       "      <th></th>\n",
       "      <th></th>\n",
       "    </tr>\n",
       "  </thead>\n",
       "  <tbody>\n",
       "    <tr>\n",
       "      <th rowspan=\"5\" valign=\"top\">2020-12-31</th>\n",
       "      <th>93089</th>\n",
       "      <td>207.589996</td>\n",
       "      <td>356285.0</td>\n",
       "      <td>0.008796</td>\n",
       "      <td>20</td>\n",
       "      <td>0.9363</td>\n",
       "      <td>0.002612</td>\n",
       "      <td>0.098867</td>\n",
       "      <td>0.671256</td>\n",
       "    </tr>\n",
       "    <tr>\n",
       "      <th>93096</th>\n",
       "      <td>210.300003</td>\n",
       "      <td>1396248.0</td>\n",
       "      <td>0.001763</td>\n",
       "      <td>25</td>\n",
       "      <td>0.4930</td>\n",
       "      <td>0.002214</td>\n",
       "      <td>0.424564</td>\n",
       "      <td>1.460936</td>\n",
       "    </tr>\n",
       "    <tr>\n",
       "      <th>93132</th>\n",
       "      <td>148.529999</td>\n",
       "      <td>482005.0</td>\n",
       "      <td>0.003445</td>\n",
       "      <td>45</td>\n",
       "      <td>1.0287</td>\n",
       "      <td>-0.006833</td>\n",
       "      <td>0.125918</td>\n",
       "      <td>0.757818</td>\n",
       "    </tr>\n",
       "    <tr>\n",
       "      <th>93429</th>\n",
       "      <td>93.120003</td>\n",
       "      <td>547634.0</td>\n",
       "      <td>0.005398</td>\n",
       "      <td>40</td>\n",
       "      <td>0.7735</td>\n",
       "      <td>-0.009179</td>\n",
       "      <td>-0.284247</td>\n",
       "      <td>-1.300541</td>\n",
       "    </tr>\n",
       "    <tr>\n",
       "      <th>93436</th>\n",
       "      <td>705.669983</td>\n",
       "      <td>49544141.0</td>\n",
       "      <td>0.015674</td>\n",
       "      <td>25</td>\n",
       "      <td>1.3043</td>\n",
       "      <td>0.018373</td>\n",
       "      <td>NaN</td>\n",
       "      <td>NaN</td>\n",
       "    </tr>\n",
       "  </tbody>\n",
       "</table>\n",
       "</div>"
      ],
      "text/plain": [
       "                          prc         vol       ret  gsector  beta_lag_1d  \\\n",
       "date       permno                                                           \n",
       "2020-12-31 93089   207.589996    356285.0  0.008796       20       0.9363   \n",
       "           93096   210.300003   1396248.0  0.001763       25       0.4930   \n",
       "           93132   148.529999    482005.0  0.003445       45       1.0287   \n",
       "           93429    93.120003    547634.0  0.005398       40       0.7735   \n",
       "           93436   705.669983  49544141.0  0.015674       25       1.3043   \n",
       "\n",
       "                    neu_ret  neu_ret_mom  beta_mom_lag_1d  \n",
       "date       permno                                          \n",
       "2020-12-31 93089   0.002612     0.098867         0.671256  \n",
       "           93096   0.002214     0.424564         1.460936  \n",
       "           93132  -0.006833     0.125918         0.757818  \n",
       "           93429  -0.009179    -0.284247        -1.300541  \n",
       "           93436   0.018373          NaN              NaN  "
      ]
     },
     "execution_count": 14,
     "metadata": {},
     "output_type": "execute_result"
    }
   ],
   "source": [
    "sp500.tail()"
   ]
  },
  {
   "cell_type": "markdown",
   "metadata": {},
   "source": [
    "## Compute the daily momentum factor return"
   ]
  },
  {
   "cell_type": "markdown",
   "metadata": {},
   "source": [
    "Cross-sectional regressions are run at each date to calculate the momentum factor return.\n",
    "$$R = \\beta_{mkt} F_{mkt} + \\beta_{ind_{1}} F_{ind_{1}} + ... + \\beta_{ind_{11}} F_{ind_{11}} + \\beta_{mom} F_{mom} + \\epsilon$$\n",
    "where $\\beta_{mom}$ is the cross-sectionally normalized 1 year trailing market_industry neutral stock returns.   \n",
    "The coefficients of the regression are the market, industry and momentum factor returns. Therefore, running cross-sectional regression at each date gives us the time series of the daily momentum factor returns."
   ]
  },
  {
   "cell_type": "code",
   "execution_count": 15,
   "metadata": {
    "ExecuteTime": {
     "end_time": "2021-03-31T19:47:19.540928Z",
     "start_time": "2021-03-31T19:47:05.096194Z"
    },
    "execution": {
     "iopub.execute_input": "2021-04-04T17:46:19.400878Z",
     "iopub.status.busy": "2021-04-04T17:46:19.400810Z",
     "iopub.status.idle": "2021-04-04T17:46:24.682896Z",
     "shell.execute_reply": "2021-04-04T17:46:24.682627Z",
     "shell.execute_reply.started": "2021-04-04T17:46:19.400870Z"
    }
   },
   "outputs": [
    {
     "name": "stderr",
     "output_type": "stream",
     "text": [
      "100%|██████████| 3525/3525 [00:05<00:00, 678.65it/s]\n"
     ]
    }
   ],
   "source": [
    "# Run linear factor model cross-sectionally on each date\n",
    "mom_ret = pd.DataFrame(columns=['mom_ret'], dtype=float)\n",
    "for date, date_df in tqdm(sp500.groupby(level=0)):\n",
    "    \n",
    "    # construct X and y\n",
    "    X = pd.concat([pd.get_dummies(date_df['gsector']), date_df[['beta_lag_1d', 'beta_mom_lag_1d']]], axis=1)\n",
    "    y = date_df['ret']\n",
    "    \n",
    "    # exclude missing values in linear regression\n",
    "    nan_index = (date_df['beta_lag_1d'].isna() | date_df['beta_mom_lag_1d'].isna() | date_df['ret'].isna())\n",
    "    X = X.loc[~nan_index].values\n",
    "    y = y.loc[~nan_index].values\n",
    "    \n",
    "    # calculate momentum factor return\n",
    "    if len(y) > 0:\n",
    "        params = np.linalg.inv((X.T.dot(X))).dot(X.T).dot(y)\n",
    "        mom_ret.loc[date, 'mom_ret'] = params[-1]"
   ]
  },
  {
   "cell_type": "code",
   "execution_count": 16,
   "metadata": {
    "ExecuteTime": {
     "end_time": "2021-03-31T19:47:19.553022Z",
     "start_time": "2021-03-31T19:47:19.542915Z"
    },
    "execution": {
     "iopub.execute_input": "2021-04-04T17:46:24.683387Z",
     "iopub.status.busy": "2021-04-04T17:46:24.683318Z",
     "iopub.status.idle": "2021-04-04T17:46:24.687310Z",
     "shell.execute_reply": "2021-04-04T17:46:24.687042Z",
     "shell.execute_reply.started": "2021-04-04T17:46:24.683379Z"
    }
   },
   "outputs": [
    {
     "data": {
      "text/html": [
       "<div>\n",
       "<style scoped>\n",
       "    .dataframe tbody tr th:only-of-type {\n",
       "        vertical-align: middle;\n",
       "    }\n",
       "\n",
       "    .dataframe tbody tr th {\n",
       "        vertical-align: top;\n",
       "    }\n",
       "\n",
       "    .dataframe thead th {\n",
       "        text-align: right;\n",
       "    }\n",
       "</style>\n",
       "<table border=\"1\" class=\"dataframe\">\n",
       "  <thead>\n",
       "    <tr style=\"text-align: right;\">\n",
       "      <th></th>\n",
       "      <th>mom_ret</th>\n",
       "    </tr>\n",
       "  </thead>\n",
       "  <tbody>\n",
       "    <tr>\n",
       "      <th>2008-01-04</th>\n",
       "      <td>0.002849</td>\n",
       "    </tr>\n",
       "    <tr>\n",
       "      <th>2008-01-07</th>\n",
       "      <td>-0.000836</td>\n",
       "    </tr>\n",
       "    <tr>\n",
       "      <th>2008-01-08</th>\n",
       "      <td>0.006970</td>\n",
       "    </tr>\n",
       "    <tr>\n",
       "      <th>2008-01-09</th>\n",
       "      <td>0.003711</td>\n",
       "    </tr>\n",
       "    <tr>\n",
       "      <th>2008-01-10</th>\n",
       "      <td>-0.009854</td>\n",
       "    </tr>\n",
       "    <tr>\n",
       "      <th>...</th>\n",
       "      <td>...</td>\n",
       "    </tr>\n",
       "    <tr>\n",
       "      <th>2020-12-24</th>\n",
       "      <td>0.000299</td>\n",
       "    </tr>\n",
       "    <tr>\n",
       "      <th>2020-12-28</th>\n",
       "      <td>-0.003276</td>\n",
       "    </tr>\n",
       "    <tr>\n",
       "      <th>2020-12-29</th>\n",
       "      <td>0.000353</td>\n",
       "    </tr>\n",
       "    <tr>\n",
       "      <th>2020-12-30</th>\n",
       "      <td>0.000601</td>\n",
       "    </tr>\n",
       "    <tr>\n",
       "      <th>2020-12-31</th>\n",
       "      <td>-0.001595</td>\n",
       "    </tr>\n",
       "  </tbody>\n",
       "</table>\n",
       "<p>3272 rows × 1 columns</p>\n",
       "</div>"
      ],
      "text/plain": [
       "             mom_ret\n",
       "2008-01-04  0.002849\n",
       "2008-01-07 -0.000836\n",
       "2008-01-08  0.006970\n",
       "2008-01-09  0.003711\n",
       "2008-01-10 -0.009854\n",
       "...              ...\n",
       "2020-12-24  0.000299\n",
       "2020-12-28 -0.003276\n",
       "2020-12-29  0.000353\n",
       "2020-12-30  0.000601\n",
       "2020-12-31 -0.001595\n",
       "\n",
       "[3272 rows x 1 columns]"
      ]
     },
     "execution_count": 16,
     "metadata": {},
     "output_type": "execute_result"
    }
   ],
   "source": [
    "mom_ret"
   ]
  },
  {
   "cell_type": "markdown",
   "metadata": {},
   "source": [
    "## Create a daily rebalanced factor-mimicking portfolio"
   ]
  },
  {
   "cell_type": "markdown",
   "metadata": {},
   "source": [
    "To create a daily rebalanced factor-mimicking portfolio, we assign stock positions proportionally to the scaled factor loadings. The scaler is chosen to be the sum of the absolute values of factor loadings, making the sum of the absolute values of stock positions add up to 1. Since the factor loadings has zero mean, the factor-mimicking portfolio is actually a zero-cost long-short portfolio."
   ]
  },
  {
   "cell_type": "code",
   "execution_count": 17,
   "metadata": {
    "ExecuteTime": {
     "end_time": "2021-03-31T19:47:23.901629Z",
     "start_time": "2021-03-31T19:47:19.555559Z"
    },
    "execution": {
     "iopub.execute_input": "2021-04-04T17:46:24.687828Z",
     "iopub.status.busy": "2021-04-04T17:46:24.687763Z",
     "iopub.status.idle": "2021-04-04T17:46:26.364959Z",
     "shell.execute_reply": "2021-04-04T17:46:26.364716Z",
     "shell.execute_reply.started": "2021-04-04T17:46:24.687819Z"
    }
   },
   "outputs": [
    {
     "name": "stderr",
     "output_type": "stream",
     "text": [
      "100%|██████████| 3525/3525 [00:01<00:00, 2280.46it/s]\n"
     ]
    }
   ],
   "source": [
    "# Create a daily rebalanced factor-mimicking portfolio\n",
    "mom_port_ret = pd.DataFrame(columns=['mom_port_ret'], dtype=float)\n",
    "for date, date_df in tqdm(sp500.groupby(level=0)):\n",
    "    if (~date_df['beta_mom_lag_1d'].isna()).sum() > 0:\n",
    "        s = 1 / np.nansum(np.abs(date_df['beta_mom_lag_1d'])) # scaler\n",
    "        mom_port_ret.loc[date, 'mom_port_ret'] = np.nansum(date_df['ret'] * date_df['beta_mom_lag_1d']) * s"
   ]
  },
  {
   "cell_type": "code",
   "execution_count": 18,
   "metadata": {
    "ExecuteTime": {
     "end_time": "2021-03-31T19:47:23.916109Z",
     "start_time": "2021-03-31T19:47:23.907736Z"
    },
    "execution": {
     "iopub.execute_input": "2021-04-04T17:46:26.365491Z",
     "iopub.status.busy": "2021-04-04T17:46:26.365429Z",
     "iopub.status.idle": "2021-04-04T17:46:26.369265Z",
     "shell.execute_reply": "2021-04-04T17:46:26.369038Z",
     "shell.execute_reply.started": "2021-04-04T17:46:26.365483Z"
    }
   },
   "outputs": [
    {
     "data": {
      "text/html": [
       "<div>\n",
       "<style scoped>\n",
       "    .dataframe tbody tr th:only-of-type {\n",
       "        vertical-align: middle;\n",
       "    }\n",
       "\n",
       "    .dataframe tbody tr th {\n",
       "        vertical-align: top;\n",
       "    }\n",
       "\n",
       "    .dataframe thead th {\n",
       "        text-align: right;\n",
       "    }\n",
       "</style>\n",
       "<table border=\"1\" class=\"dataframe\">\n",
       "  <thead>\n",
       "    <tr style=\"text-align: right;\">\n",
       "      <th></th>\n",
       "      <th>mom_port_ret</th>\n",
       "    </tr>\n",
       "  </thead>\n",
       "  <tbody>\n",
       "    <tr>\n",
       "      <th>2008-01-04</th>\n",
       "      <td>0.004340</td>\n",
       "    </tr>\n",
       "    <tr>\n",
       "      <th>2008-01-07</th>\n",
       "      <td>-0.000400</td>\n",
       "    </tr>\n",
       "    <tr>\n",
       "      <th>2008-01-08</th>\n",
       "      <td>0.009247</td>\n",
       "    </tr>\n",
       "    <tr>\n",
       "      <th>2008-01-09</th>\n",
       "      <td>0.004966</td>\n",
       "    </tr>\n",
       "    <tr>\n",
       "      <th>2008-01-10</th>\n",
       "      <td>-0.013225</td>\n",
       "    </tr>\n",
       "    <tr>\n",
       "      <th>...</th>\n",
       "      <td>...</td>\n",
       "    </tr>\n",
       "    <tr>\n",
       "      <th>2020-12-24</th>\n",
       "      <td>0.001133</td>\n",
       "    </tr>\n",
       "    <tr>\n",
       "      <th>2020-12-28</th>\n",
       "      <td>-0.004082</td>\n",
       "    </tr>\n",
       "    <tr>\n",
       "      <th>2020-12-29</th>\n",
       "      <td>0.000950</td>\n",
       "    </tr>\n",
       "    <tr>\n",
       "      <th>2020-12-30</th>\n",
       "      <td>-0.001829</td>\n",
       "    </tr>\n",
       "    <tr>\n",
       "      <th>2020-12-31</th>\n",
       "      <td>-0.001055</td>\n",
       "    </tr>\n",
       "  </tbody>\n",
       "</table>\n",
       "<p>3272 rows × 1 columns</p>\n",
       "</div>"
      ],
      "text/plain": [
       "            mom_port_ret\n",
       "2008-01-04      0.004340\n",
       "2008-01-07     -0.000400\n",
       "2008-01-08      0.009247\n",
       "2008-01-09      0.004966\n",
       "2008-01-10     -0.013225\n",
       "...                  ...\n",
       "2020-12-24      0.001133\n",
       "2020-12-28     -0.004082\n",
       "2020-12-29      0.000950\n",
       "2020-12-30     -0.001829\n",
       "2020-12-31     -0.001055\n",
       "\n",
       "[3272 rows x 1 columns]"
      ]
     },
     "execution_count": 18,
     "metadata": {},
     "output_type": "execute_result"
    }
   ],
   "source": [
    "mom_port_ret"
   ]
  },
  {
   "cell_type": "markdown",
   "metadata": {},
   "source": [
    "## Plot the daily return"
   ]
  },
  {
   "cell_type": "markdown",
   "metadata": {},
   "source": [
    "From the plots, we can see that the daily momentum factor return and factor-mimicking portfolio return show very similar patterns. The correlation coefficient of momentum factor return and factor-mimicking portfolio return is 0.963. They helps verify the effectiveness of \"factor-mimicking\". More detailed analysis will be conducted in the next part."
   ]
  },
  {
   "cell_type": "code",
   "execution_count": 19,
   "metadata": {
    "ExecuteTime": {
     "end_time": "2021-03-31T19:47:24.208580Z",
     "start_time": "2021-03-31T19:47:23.920787Z"
    },
    "execution": {
     "iopub.execute_input": "2021-04-04T17:46:26.369781Z",
     "iopub.status.busy": "2021-04-04T17:46:26.369719Z",
     "iopub.status.idle": "2021-04-04T17:46:26.469756Z",
     "shell.execute_reply": "2021-04-04T17:46:26.469451Z",
     "shell.execute_reply.started": "2021-04-04T17:46:26.369772Z"
    }
   },
   "outputs": [
    {
     "data": {
      "image/png": "[encoded data removed]",
      "text/plain": [
       "<Figure size 1080x360 with 2 Axes>"
      ]
     },
     "metadata": {
      "needs_background": "light"
     },
     "output_type": "display_data"
    }
   ],
   "source": [
    "# plot the daily momentum factor return and factor-mimicking portfolio return\n",
    "fig, axes = plt.subplots(nrows=1, ncols=2, sharex=True, sharey=True, figsize=(15, 5))\n",
    "for i, df in enumerate([mom_ret, mom_port_ret]):\n",
    "    axes[i].plot(df)\n",
    "    axes[i].set_xlabel('date')\n",
    "    axes[i].set_ylabel('factor return')\n",
    "    axes[i].set_title(f'plot of {df.columns[0]}')\n",
    "plt.show()"
   ]
  },
  {
   "cell_type": "code",
   "execution_count": 20,
   "metadata": {
    "ExecuteTime": {
     "end_time": "2021-03-31T19:47:24.215054Z",
     "start_time": "2021-03-31T19:47:24.210793Z"
    },
    "execution": {
     "iopub.execute_input": "2021-04-04T17:46:26.470478Z",
     "iopub.status.busy": "2021-04-04T17:46:26.470406Z",
     "iopub.status.idle": "2021-04-04T17:46:26.472856Z",
     "shell.execute_reply": "2021-04-04T17:46:26.472604Z",
     "shell.execute_reply.started": "2021-04-04T17:46:26.470468Z"
    }
   },
   "outputs": [
    {
     "name": "stdout",
     "output_type": "stream",
     "text": [
      "The correlation coefficient of factor return and factor-mimicking portfolio return is 0.963.\n"
     ]
    }
   ],
   "source": [
    "rho = np.corrcoef(mom_ret['mom_ret'], mom_port_ret['mom_port_ret'])[0][1]\n",
    "print(f'The correlation coefficient of factor return and factor-mimicking portfolio return is {rho:.3f}.')"
   ]
  },
  {
   "cell_type": "code",
   "execution_count": 21,
   "metadata": {
    "execution": {
     "iopub.execute_input": "2021-04-04T17:46:26.473428Z",
     "iopub.status.busy": "2021-04-04T17:46:26.473365Z",
     "iopub.status.idle": "2021-04-04T17:46:26.544539Z",
     "shell.execute_reply": "2021-04-04T17:46:26.544229Z",
     "shell.execute_reply.started": "2021-04-04T17:46:26.473420Z"
    },
    "tags": []
   },
   "outputs": [
    {
     "data": {
      "text/plain": [
       "<matplotlib.legend.Legend at 0x13eb91f10>"
      ]
     },
     "execution_count": 21,
     "metadata": {},
     "output_type": "execute_result"
    },
    {
     "data": {
      "image/png": "[encoded data removed]",
      "text/plain": [
       "<Figure size 792x288 with 1 Axes>"
      ]
     },
     "metadata": {
      "needs_background": "light"
     },
     "output_type": "display_data"
    }
   ],
   "source": [
    "fig, ax = plt.subplots(figsize=(11,4))\n",
    "ax.plot(np.cumprod(mom_port_ret+1)-1, label='factor-mimicking portfolio')\n",
    "ax.plot(np.cumprod(mom_ret+1)-1, label='momentum factor')\n",
    "ax.set_xlabel('Date')\n",
    "ax.set_ylabel('P&L')\n",
    "ax.legend(loc='best')"
   ]
  },
  {
   "cell_type": "code",
   "execution_count": 22,
   "metadata": {
    "execution": {
     "iopub.execute_input": "2021-04-04T17:46:26.545293Z",
     "iopub.status.busy": "2021-04-04T17:46:26.545209Z",
     "iopub.status.idle": "2021-04-04T17:46:26.561493Z",
     "shell.execute_reply": "2021-04-04T17:46:26.561198Z",
     "shell.execute_reply.started": "2021-04-04T17:46:26.545276Z"
    }
   },
   "outputs": [],
   "source": [
    "mom_port_ret.to_csv('mom.csv')"
   ]
  },
  {
   "cell_type": "markdown",
   "metadata": {},
   "source": [
    "## Analyze the historical performance"
   ]
  },
  {
   "cell_type": "markdown",
   "metadata": {},
   "source": [
    "We calculated a series of metrics to evaluate the historical performance of the momentum factor-mimicking portfolio returns. The result shows that it did not perform very well in the past ten years. The portfolio achieved a daily return of -0.01% on average, which is not significantly different from zero. The Sharpe ratio is also negative, which is -0.44. The max drawdown of 42.38% is also very high. All of these metrics show low returns and high risk of the market-and-industry neutral factor.  \n",
    "Compared to the classical \"raw\" momentum factor, the weak performance of market-and-industry neutral stock return indicates that the abnormal return of the classical \"raw\" momentum factor might be largely attributed to the market momentum and the industry momentum. The result aligns with the conclusion of [Moskowitz and Grinblatt (1999)](https://doi.org/10.1111/0022-1082.00146)."
   ]
  },
  {
   "cell_type": "code",
   "execution_count": 23,
   "metadata": {
    "ExecuteTime": {
     "end_time": "2021-03-31T19:47:24.223521Z",
     "start_time": "2021-03-31T19:47:24.217175Z"
    },
    "execution": {
     "iopub.execute_input": "2021-04-04T17:46:26.562128Z",
     "iopub.status.busy": "2021-04-04T17:46:26.562052Z",
     "iopub.status.idle": "2021-04-04T17:46:26.565650Z",
     "shell.execute_reply": "2021-04-04T17:46:26.565365Z",
     "shell.execute_reply.started": "2021-04-04T17:46:26.562119Z"
    }
   },
   "outputs": [],
   "source": [
    "def backtest_evaluation(port_ret):\n",
    "    metric = pd.DataFrame(index=['factor-mimicking portfolio'],\n",
    "                          columns=['mean daily ret', 't value', 'p value',\n",
    "                                   'annualized ret', 'annualized vol',\n",
    "                                   'Sharpe ratio', 'Win ratio', 'Max drawdown'])\n",
    "    metric.loc['factor-mimicking portfolio', 'mean daily ret'] = port_ret.mean()\n",
    "    t_value, p_value = ttest_1samp(port_ret, popmean=0)\n",
    "    metric.loc['factor-mimicking portfolio', 't value'] = t_value\n",
    "    metric.loc['factor-mimicking portfolio', 'p value'] = p_value\n",
    "    annualized_ret = np.prod(port_ret+1)**(252/len(port_ret))-1\n",
    "    metric.loc['factor-mimicking portfolio', 'annualized ret'] = annualized_ret\n",
    "    annualized_vol = port_ret.std() * np.sqrt(252)\n",
    "    metric.loc['factor-mimicking portfolio', 'annualized vol'] = annualized_vol\n",
    "    metric.loc['factor-mimicking portfolio', 'Sharpe ratio'] = annualized_ret / annualized_vol\n",
    "    metric.loc['factor-mimicking portfolio', 'Win ratio'] = (port_ret > 0).sum() / len(port_ret)\n",
    "    curr, pre_high, max_drawdown = 1, 1, 0\n",
    "    for ret in port_ret:\n",
    "        curr *= (ret + 1)\n",
    "        max_drawdown = max(max_drawdown, (pre_high - curr) / pre_high)\n",
    "        pre_high = max(pre_high, curr)\n",
    "    metric.loc['factor-mimicking portfolio', 'Max drawdown'] = max_drawdown\n",
    "    return metric"
   ]
  },
  {
   "cell_type": "code",
   "execution_count": 24,
   "metadata": {
    "ExecuteTime": {
     "end_time": "2021-03-31T19:47:24.240275Z",
     "start_time": "2021-03-31T19:47:24.225526Z"
    },
    "execution": {
     "iopub.execute_input": "2021-04-04T17:46:26.569152Z",
     "iopub.status.busy": "2021-04-04T17:46:26.569048Z",
     "iopub.status.idle": "2021-04-04T17:46:26.576356Z",
     "shell.execute_reply": "2021-04-04T17:46:26.576086Z",
     "shell.execute_reply.started": "2021-04-04T17:46:26.569143Z"
    }
   },
   "outputs": [
    {
     "data": {
      "text/html": [
       "<div>\n",
       "<style scoped>\n",
       "    .dataframe tbody tr th:only-of-type {\n",
       "        vertical-align: middle;\n",
       "    }\n",
       "\n",
       "    .dataframe tbody tr th {\n",
       "        vertical-align: top;\n",
       "    }\n",
       "\n",
       "    .dataframe thead th {\n",
       "        text-align: right;\n",
       "    }\n",
       "</style>\n",
       "<table border=\"1\" class=\"dataframe\">\n",
       "  <thead>\n",
       "    <tr style=\"text-align: right;\">\n",
       "      <th></th>\n",
       "      <th>mean daily ret</th>\n",
       "      <th>t value</th>\n",
       "      <th>p value</th>\n",
       "      <th>annualized ret</th>\n",
       "      <th>annualized vol</th>\n",
       "      <th>Sharpe ratio</th>\n",
       "      <th>Win ratio</th>\n",
       "      <th>Max drawdown</th>\n",
       "    </tr>\n",
       "  </thead>\n",
       "  <tbody>\n",
       "    <tr>\n",
       "      <th>factor-mimicking portfolio</th>\n",
       "      <td>-0.000127</td>\n",
       "      <td>-1.460198</td>\n",
       "      <td>0.144332</td>\n",
       "      <td>-0.034463</td>\n",
       "      <td>0.078828</td>\n",
       "      <td>-0.437192</td>\n",
       "      <td>0.510697</td>\n",
       "      <td>0.423847</td>\n",
       "    </tr>\n",
       "  </tbody>\n",
       "</table>\n",
       "</div>"
      ],
      "text/plain": [
       "                           mean daily ret   t value   p value annualized ret  \\\n",
       "factor-mimicking portfolio      -0.000127 -1.460198  0.144332      -0.034463   \n",
       "\n",
       "                           annualized vol Sharpe ratio Win ratio Max drawdown  \n",
       "factor-mimicking portfolio       0.078828    -0.437192  0.510697     0.423847  "
      ]
     },
     "execution_count": 24,
     "metadata": {},
     "output_type": "execute_result"
    }
   ],
   "source": [
    "backtest_evaluation(mom_port_ret['mom_port_ret'])"
   ]
  },
  {
   "cell_type": "markdown",
   "metadata": {},
   "source": [
    "## Does 1 month reversal matter?"
   ]
  },
  {
   "cell_type": "markdown",
   "metadata": {},
   "source": [
    "1 month reversal is another famous anomaly. The classical monthly momentum also excludes the stock returns in the most recent month. Therefore, we explored that whether excluding the most recent month can improve the performance of the market-and-industry momentum factor. The data processing details refer to [Fama-Frech daily momentum factor](https://mba.tuck.dartmouth.edu/pages/faculty/ken.french/Data_Library/det_mom_factor_daily.html). To have a 1 year trailing return excluding the most recent month at date $t$, a stock must have returns at date $t-252$ and date $t-21$."
   ]
  },
  {
   "cell_type": "code",
   "execution_count": 25,
   "metadata": {
    "ExecuteTime": {
     "end_time": "2021-03-31T19:47:24.247181Z",
     "start_time": "2021-03-31T19:47:24.243206Z"
    },
    "execution": {
     "iopub.execute_input": "2021-04-04T17:46:26.577864Z",
     "iopub.status.busy": "2021-04-04T17:46:26.577777Z",
     "iopub.status.idle": "2021-04-04T17:46:26.579851Z",
     "shell.execute_reply": "2021-04-04T17:46:26.579575Z",
     "shell.execute_reply.started": "2021-04-04T17:46:26.577855Z"
    }
   },
   "outputs": [],
   "source": [
    "def calc_12M_1M_ret(arr):\n",
    "    if (len(arr)!=252) or np.isnan(arr[0]) or np.isnan(arr[-21]):\n",
    "        return np.nan\n",
    "    else:\n",
    "        return np.nanprod(arr[:-20] + 1) - 1"
   ]
  },
  {
   "cell_type": "code",
   "execution_count": 26,
   "metadata": {
    "ExecuteTime": {
     "end_time": "2021-03-31T19:48:30.930155Z",
     "start_time": "2021-03-31T19:47:24.249577Z"
    },
    "execution": {
     "iopub.execute_input": "2021-04-04T17:46:26.580441Z",
     "iopub.status.busy": "2021-04-04T17:46:26.580377Z",
     "iopub.status.idle": "2021-04-04T17:46:55.422368Z",
     "shell.execute_reply": "2021-04-04T17:46:55.422108Z",
     "shell.execute_reply.started": "2021-04-04T17:46:26.580433Z"
    }
   },
   "outputs": [
    {
     "name": "stderr",
     "output_type": "stream",
     "text": [
      "100%|██████████| 831/831 [00:28<00:00, 29.60it/s]\n"
     ]
    }
   ],
   "source": [
    "# set multiindex to make the iteration over stocks easier\n",
    "sp500.reset_index(inplace=True)\n",
    "sp500.sort_values(by=['permno', 'date'], inplace=True)\n",
    "sp500.set_index(['permno', 'date'], inplace=True)\n",
    "\n",
    "# Calculate trailing market_industry neutral stock returns in the past 12-1 months\n",
    "for permno, permno_df in tqdm(sp500.groupby(level=0)):\n",
    "    neu_ret_mom2_df = permno_df['neu_ret'].rolling(window=252, min_periods=2, closed='left').apply(func=calc_12M_1M_ret, raw=True)\n",
    "    sp500.loc[(permno, slice(None)), 'neu_ret_mom2'] = neu_ret_mom2_df\n",
    "\n",
    "# recover the multiindex\n",
    "sp500.reset_index(inplace=True)\n",
    "sp500.sort_values(by=['date', 'permno'], inplace=True)\n",
    "sp500.set_index(['date', 'permno'], inplace=True)"
   ]
  },
  {
   "cell_type": "code",
   "execution_count": 27,
   "metadata": {
    "ExecuteTime": {
     "end_time": "2021-03-31T19:50:17.633376Z",
     "start_time": "2021-03-31T19:48:30.932416Z"
    },
    "execution": {
     "iopub.execute_input": "2021-04-04T17:46:55.422955Z",
     "iopub.status.busy": "2021-04-04T17:46:55.422885Z",
     "iopub.status.idle": "2021-04-04T17:47:35.485529Z",
     "shell.execute_reply": "2021-04-04T17:47:35.485231Z",
     "shell.execute_reply.started": "2021-04-04T17:46:55.422946Z"
    }
   },
   "outputs": [
    {
     "name": "stderr",
     "output_type": "stream",
     "text": [
      "100%|██████████| 3525/3525 [00:39<00:00, 88.18it/s]\n"
     ]
    }
   ],
   "source": [
    "# Cross-sectional normalization\n",
    "for date, date_df in tqdm(sp500.groupby(level=0)):\n",
    "    neu_ret_mom2_rank = date_df['neu_ret_mom2'].rank(method='dense')\n",
    "    neu_ret_mom2_rank = neu_ret_mom2_rank / (neu_ret_mom2_rank.max() + 1) # avoid converting 1 into inf\n",
    "    sp500.loc[(date, slice(None)), 'beta_mom2_lag_1d'] = norm.ppf(neu_ret_mom2_rank)"
   ]
  },
  {
   "cell_type": "code",
   "execution_count": 28,
   "metadata": {
    "ExecuteTime": {
     "end_time": "2021-03-31T19:50:21.955903Z",
     "start_time": "2021-03-31T19:50:17.635648Z"
    },
    "execution": {
     "iopub.execute_input": "2021-04-04T17:47:35.486118Z",
     "iopub.status.busy": "2021-04-04T17:47:35.486048Z",
     "iopub.status.idle": "2021-04-04T17:47:37.221594Z",
     "shell.execute_reply": "2021-04-04T17:47:37.221341Z",
     "shell.execute_reply.started": "2021-04-04T17:47:35.486109Z"
    }
   },
   "outputs": [
    {
     "name": "stderr",
     "output_type": "stream",
     "text": [
      "100%|██████████| 3525/3525 [00:01<00:00, 2192.64it/s]\n"
     ]
    }
   ],
   "source": [
    "# Create a daily rebalanced factor-mimicking portfolio\n",
    "mom2_port_ret = pd.DataFrame(columns=['mom2_port_ret'], dtype=float)\n",
    "for date, date_df in tqdm(sp500.groupby(level=0)):\n",
    "    if (~date_df['beta_mom2_lag_1d'].isna()).sum() > 0:\n",
    "        s = 1 / np.nansum(np.abs(date_df['beta_mom2_lag_1d'])) # scaler\n",
    "        mom2_port_ret.loc[date, 'mom2_port_ret'] = np.nansum(date_df['ret'] * date_df['beta_mom2_lag_1d']) * s"
   ]
  },
  {
   "cell_type": "code",
   "execution_count": 29,
   "metadata": {
    "ExecuteTime": {
     "end_time": "2021-03-31T19:50:21.966471Z",
     "start_time": "2021-03-31T19:50:21.957929Z"
    },
    "execution": {
     "iopub.execute_input": "2021-04-04T17:47:37.222178Z",
     "iopub.status.busy": "2021-04-04T17:47:37.222116Z",
     "iopub.status.idle": "2021-04-04T17:47:37.225968Z",
     "shell.execute_reply": "2021-04-04T17:47:37.225708Z",
     "shell.execute_reply.started": "2021-04-04T17:47:37.222170Z"
    }
   },
   "outputs": [
    {
     "data": {
      "text/html": [
       "<div>\n",
       "<style scoped>\n",
       "    .dataframe tbody tr th:only-of-type {\n",
       "        vertical-align: middle;\n",
       "    }\n",
       "\n",
       "    .dataframe tbody tr th {\n",
       "        vertical-align: top;\n",
       "    }\n",
       "\n",
       "    .dataframe thead th {\n",
       "        text-align: right;\n",
       "    }\n",
       "</style>\n",
       "<table border=\"1\" class=\"dataframe\">\n",
       "  <thead>\n",
       "    <tr style=\"text-align: right;\">\n",
       "      <th></th>\n",
       "      <th>mom2_port_ret</th>\n",
       "    </tr>\n",
       "  </thead>\n",
       "  <tbody>\n",
       "    <tr>\n",
       "      <th>2008-01-04</th>\n",
       "      <td>0.004023</td>\n",
       "    </tr>\n",
       "    <tr>\n",
       "      <th>2008-01-07</th>\n",
       "      <td>-0.000184</td>\n",
       "    </tr>\n",
       "    <tr>\n",
       "      <th>2008-01-08</th>\n",
       "      <td>0.009240</td>\n",
       "    </tr>\n",
       "    <tr>\n",
       "      <th>2008-01-09</th>\n",
       "      <td>0.004986</td>\n",
       "    </tr>\n",
       "    <tr>\n",
       "      <th>2008-01-10</th>\n",
       "      <td>-0.012265</td>\n",
       "    </tr>\n",
       "    <tr>\n",
       "      <th>...</th>\n",
       "      <td>...</td>\n",
       "    </tr>\n",
       "    <tr>\n",
       "      <th>2020-12-24</th>\n",
       "      <td>0.001409</td>\n",
       "    </tr>\n",
       "    <tr>\n",
       "      <th>2020-12-28</th>\n",
       "      <td>-0.003935</td>\n",
       "    </tr>\n",
       "    <tr>\n",
       "      <th>2020-12-29</th>\n",
       "      <td>0.001284</td>\n",
       "    </tr>\n",
       "    <tr>\n",
       "      <th>2020-12-30</th>\n",
       "      <td>-0.002028</td>\n",
       "    </tr>\n",
       "    <tr>\n",
       "      <th>2020-12-31</th>\n",
       "      <td>-0.000853</td>\n",
       "    </tr>\n",
       "  </tbody>\n",
       "</table>\n",
       "<p>3272 rows × 1 columns</p>\n",
       "</div>"
      ],
      "text/plain": [
       "            mom2_port_ret\n",
       "2008-01-04       0.004023\n",
       "2008-01-07      -0.000184\n",
       "2008-01-08       0.009240\n",
       "2008-01-09       0.004986\n",
       "2008-01-10      -0.012265\n",
       "...                   ...\n",
       "2020-12-24       0.001409\n",
       "2020-12-28      -0.003935\n",
       "2020-12-29       0.001284\n",
       "2020-12-30      -0.002028\n",
       "2020-12-31      -0.000853\n",
       "\n",
       "[3272 rows x 1 columns]"
      ]
     },
     "execution_count": 29,
     "metadata": {},
     "output_type": "execute_result"
    }
   ],
   "source": [
    "mom2_port_ret"
   ]
  },
  {
   "cell_type": "code",
   "execution_count": 30,
   "metadata": {
    "ExecuteTime": {
     "end_time": "2021-03-31T19:50:22.153350Z",
     "start_time": "2021-03-31T19:50:21.968311Z"
    },
    "execution": {
     "iopub.execute_input": "2021-04-04T17:47:37.226575Z",
     "iopub.status.busy": "2021-04-04T17:47:37.226507Z",
     "iopub.status.idle": "2021-04-04T17:47:37.286570Z",
     "shell.execute_reply": "2021-04-04T17:47:37.286282Z",
     "shell.execute_reply.started": "2021-04-04T17:47:37.226566Z"
    }
   },
   "outputs": [
    {
     "data": {
      "image/png": "[encoded data removed]",
      "text/plain": [
       "<Figure size 576x360 with 1 Axes>"
      ]
     },
     "metadata": {
      "needs_background": "light"
     },
     "output_type": "display_data"
    }
   ],
   "source": [
    "# plot the factor-mimicking portfolio return\n",
    "fig, ax = plt.subplots(nrows=1, ncols=1, sharex=True, sharey=True, figsize=(8, 5))\n",
    "ax.plot(mom2_port_ret['mom2_port_ret'])\n",
    "ax.set_xlabel('date')\n",
    "ax.set_ylabel('factor return')\n",
    "ax.set_title(f'plot of mom2_port_ret')\n",
    "plt.show()"
   ]
  },
  {
   "cell_type": "code",
   "execution_count": 31,
   "metadata": {
    "execution": {
     "iopub.execute_input": "2021-04-04T17:47:37.287235Z",
     "iopub.status.busy": "2021-04-04T17:47:37.287166Z",
     "iopub.status.idle": "2021-04-04T17:47:37.364828Z",
     "shell.execute_reply": "2021-04-04T17:47:37.364537Z",
     "shell.execute_reply.started": "2021-04-04T17:47:37.287225Z"
    },
    "tags": []
   },
   "outputs": [
    {
     "data": {
      "text/plain": [
       "<matplotlib.legend.Legend at 0x13dec1100>"
      ]
     },
     "execution_count": 31,
     "metadata": {},
     "output_type": "execute_result"
    },
    {
     "data": {
      "image/png": "[encoded data removed]",
      "text/plain": [
       "<Figure size 792x288 with 1 Axes>"
      ]
     },
     "metadata": {
      "needs_background": "light"
     },
     "output_type": "display_data"
    }
   ],
   "source": [
    "fig, ax = plt.subplots(figsize=(11,4))\n",
    "ax.plot(np.cumprod(1+mom2_port_ret)-1, label='factor-mimicking portfolio with 1 month reversal')\n",
    "ax.plot(np.cumprod(1+mom_port_ret)-1, label='factor-mimicking portfolio')\n",
    "ax.plot(np.cumprod(1+mom_ret)-1, label='momentum factor')\n",
    "ax.set_xlabel('Date')\n",
    "ax.set_ylabel('P&L')\n",
    "ax.legend(loc='best')"
   ]
  },
  {
   "cell_type": "code",
   "execution_count": 32,
   "metadata": {
    "ExecuteTime": {
     "end_time": "2021-03-31T19:50:22.173841Z",
     "start_time": "2021-03-31T19:50:22.156119Z"
    },
    "execution": {
     "iopub.execute_input": "2021-04-04T17:47:37.365672Z",
     "iopub.status.busy": "2021-04-04T17:47:37.365586Z",
     "iopub.status.idle": "2021-04-04T17:47:37.372609Z",
     "shell.execute_reply": "2021-04-04T17:47:37.372346Z",
     "shell.execute_reply.started": "2021-04-04T17:47:37.365662Z"
    }
   },
   "outputs": [
    {
     "data": {
      "text/html": [
       "<div>\n",
       "<style scoped>\n",
       "    .dataframe tbody tr th:only-of-type {\n",
       "        vertical-align: middle;\n",
       "    }\n",
       "\n",
       "    .dataframe tbody tr th {\n",
       "        vertical-align: top;\n",
       "    }\n",
       "\n",
       "    .dataframe thead th {\n",
       "        text-align: right;\n",
       "    }\n",
       "</style>\n",
       "<table border=\"1\" class=\"dataframe\">\n",
       "  <thead>\n",
       "    <tr style=\"text-align: right;\">\n",
       "      <th></th>\n",
       "      <th>mean daily ret</th>\n",
       "      <th>t value</th>\n",
       "      <th>p value</th>\n",
       "      <th>annualized ret</th>\n",
       "      <th>annualized vol</th>\n",
       "      <th>Sharpe ratio</th>\n",
       "      <th>Win ratio</th>\n",
       "      <th>Max drawdown</th>\n",
       "    </tr>\n",
       "  </thead>\n",
       "  <tbody>\n",
       "    <tr>\n",
       "      <th>factor-mimicking portfolio</th>\n",
       "      <td>-0.000063</td>\n",
       "      <td>-0.792809</td>\n",
       "      <td>0.427946</td>\n",
       "      <td>-0.018202</td>\n",
       "      <td>0.07174</td>\n",
       "      <td>-0.253728</td>\n",
       "      <td>0.517115</td>\n",
       "      <td>0.358822</td>\n",
       "    </tr>\n",
       "  </tbody>\n",
       "</table>\n",
       "</div>"
      ],
      "text/plain": [
       "                           mean daily ret   t value   p value annualized ret  \\\n",
       "factor-mimicking portfolio      -0.000063 -0.792809  0.427946      -0.018202   \n",
       "\n",
       "                           annualized vol Sharpe ratio Win ratio Max drawdown  \n",
       "factor-mimicking portfolio        0.07174    -0.253728  0.517115     0.358822  "
      ]
     },
     "execution_count": 32,
     "metadata": {},
     "output_type": "execute_result"
    }
   ],
   "source": [
    "backtest_evaluation(mom2_port_ret['mom2_port_ret'])"
   ]
  },
  {
   "cell_type": "markdown",
   "metadata": {},
   "source": [
    "Examining the performance metrics, we can see that excluding 1 month reversal increases the annualized return, decreases the annualized volatility, and thus increase the Sharpe ratio. The max drawdown also improves. However, the overall performance of the market-and-industry neutral momentum factor is still not good. The Sharpe ratio remains negative."
   ]
  },
  {
   "cell_type": "markdown",
   "metadata": {},
   "source": [
    "# Trading signal design\n",
    "\n",
    "In this section we are going to build ML model to predict the market-industry-neutural return of each stock separately.\n",
    "\n",
    "$$\n",
    "\\hat{\\epsilon}_t = f(g(x))\n",
    "$$\n",
    "\n",
    "where \n",
    "\n",
    "- $f(\\cdot)$ is the ML regression model of our choice, we tried linear models and xgboost\n",
    "- $x=\\{x_{t}, x_{t-1},...\\}$ is the historical price and volume data of the stock of interest\n",
    "- $g(x)$ is the feature transformation function, including feature extraction, imputation, scaling and decomposition.\n",
    "\n",
    "Then we're going to use the predicted $\\epsilon_t$ to adjust the portfolio based on mean-variance optimization."
   ]
  },
  {
   "cell_type": "code",
   "execution_count": 33,
   "metadata": {
    "execution": {
     "iopub.execute_input": "2021-04-04T17:47:37.373202Z",
     "iopub.status.busy": "2021-04-04T17:47:37.373135Z",
     "iopub.status.idle": "2021-04-04T17:47:37.792568Z",
     "shell.execute_reply": "2021-04-04T17:47:37.792263Z",
     "shell.execute_reply.started": "2021-04-04T17:47:37.373193Z"
    },
    "tags": []
   },
   "outputs": [],
   "source": [
    "import pandas as pd\n",
    "import numpy as np\n",
    "from linearmodels.panel import PanelOLS, PooledOLS, FamaMacBeth\n",
    "from sklearn.metrics import r2_score\n",
    "from scipy.stats import norm\n",
    "import statsmodels.api as sm\n",
    "import matplotlib.pyplot as plt\n",
    "from tqdm import tqdm\n",
    "import talib"
   ]
  },
  {
   "cell_type": "markdown",
   "metadata": {},
   "source": [
    "## Prepare the data\n",
    "\n",
    "We first download the data from our github repo, drop the duplicated rows and reset the index so we can further manipulate the index later"
   ]
  },
  {
   "cell_type": "code",
   "execution_count": 34,
   "metadata": {
    "execution": {
     "iopub.execute_input": "2021-04-04T17:47:37.793171Z",
     "iopub.status.busy": "2021-04-04T17:47:37.793093Z",
     "iopub.status.idle": "2021-04-04T17:47:39.367194Z",
     "shell.execute_reply": "2021-04-04T17:47:39.366934Z",
     "shell.execute_reply.started": "2021-04-04T17:47:37.793161Z"
    },
    "tags": []
   },
   "outputs": [],
   "source": [
    "sp500 = pd.read_pickle(\n",
    "    'https://github.com/kevinhzh/stat-arb-project/raw/main/data/sp500.pkl')\n",
    "sp500.drop_duplicates(inplace=True)\n",
    "sp500.reset_index(inplace=True)"
   ]
  },
  {
   "cell_type": "markdown",
   "metadata": {},
   "source": [
    "Since S&P 500 adjusts the company list constantly, in this section we only select the stocks that exists throughout the entire period of study (`2007-2020`), 3525 days in total."
   ]
  },
  {
   "cell_type": "code",
   "execution_count": 35,
   "metadata": {
    "execution": {
     "iopub.execute_input": "2021-04-04T17:47:39.367730Z",
     "iopub.status.busy": "2021-04-04T17:47:39.367667Z",
     "iopub.status.idle": "2021-04-04T17:47:39.447548Z",
     "shell.execute_reply": "2021-04-04T17:47:39.447227Z",
     "shell.execute_reply.started": "2021-04-04T17:47:39.367722Z"
    }
   },
   "outputs": [
    {
     "name": "stdout",
     "output_type": "stream",
     "text": [
      "3525\n"
     ]
    }
   ],
   "source": [
    "len_list = []\n",
    "for permno, df in sp500.groupby('permno'):\n",
    "    if len(df) == 6126:\n",
    "        print(permno, df)\n",
    "    len_list.append(len(df))\n",
    "    \n",
    "print(max(len_list))"
   ]
  },
  {
   "cell_type": "markdown",
   "metadata": {},
   "source": [
    "The cell below shows that our stock universe contains 262 stocks."
   ]
  },
  {
   "cell_type": "code",
   "execution_count": 36,
   "metadata": {
    "execution": {
     "iopub.execute_input": "2021-04-04T17:47:39.448154Z",
     "iopub.status.busy": "2021-04-04T17:47:39.448079Z",
     "iopub.status.idle": "2021-04-04T17:47:39.547436Z",
     "shell.execute_reply": "2021-04-04T17:47:39.547175Z",
     "shell.execute_reply.started": "2021-04-04T17:47:39.448144Z"
    },
    "tags": []
   },
   "outputs": [
    {
     "name": "stdout",
     "output_type": "stream",
     "text": [
      "262\n"
     ]
    }
   ],
   "source": [
    "permno_list = []\n",
    "for permno, df in sp500.groupby('permno'):\n",
    "    if (len(df) == 3525) and (df['date'].iloc[-1] == pd.to_datetime('2020-12-31')):\n",
    "        permno_list.append(permno)\n",
    "print(len(permno_list))"
   ]
  },
  {
   "cell_type": "code",
   "execution_count": 37,
   "metadata": {
    "execution": {
     "iopub.execute_input": "2021-04-04T17:47:39.548064Z",
     "iopub.status.busy": "2021-04-04T17:47:39.547987Z",
     "iopub.status.idle": "2021-04-04T17:47:39.574091Z",
     "shell.execute_reply": "2021-04-04T17:47:39.573759Z",
     "shell.execute_reply.started": "2021-04-04T17:47:39.548054Z"
    },
    "tags": []
   },
   "outputs": [],
   "source": [
    "spdata = sp500[sp500['permno'].isin(permno_list)]"
   ]
  },
  {
   "cell_type": "markdown",
   "metadata": {},
   "source": [
    "## Feature Extraction\n",
    "\n",
    "Now we need extraction from the original price-volume dataset. To maintein open-closed principle (open for extension, but closed for modification, OCP), we used scikit-learn's idea of pipeline. Each feature extraction is now a transformer object in the pipeline. It adds a new column of new feature to the input dataframe. The structure of the pipeline is shown below:\n",
    "\n",
    "```bash\n",
    "X, y -> FeatureTransformer1\n",
    "     -> FeatureTransformer2\n",
    "     -> ...\n",
    "     -> FeatureTransformerk\n",
    "     -> Imputer\n",
    "     -> StandardScaler\n",
    "     -> PCA ?\n",
    "     -> Regressor\n",
    "```\n",
    "\n",
    "For the detail of each feature, see the docstring of each transformer class."
   ]
  },
  {
   "cell_type": "code",
   "execution_count": 38,
   "metadata": {
    "execution": {
     "iopub.execute_input": "2021-04-04T17:47:39.574684Z",
     "iopub.status.busy": "2021-04-04T17:47:39.574619Z",
     "iopub.status.idle": "2021-04-04T17:47:39.628455Z",
     "shell.execute_reply": "2021-04-04T17:47:39.628172Z",
     "shell.execute_reply.started": "2021-04-04T17:47:39.574676Z"
    },
    "tags": []
   },
   "outputs": [],
   "source": [
    "from sklearn.pipeline import Pipeline\n",
    "from sklearn.base import BaseEstimator, TransformerMixin\n",
    "from sklearn.preprocessing import StandardScaler\n",
    "from sklearn.linear_model import LinearRegression, Ridge, Lasso\n",
    "from sklearn.svm import SVR\n",
    "from sklearn.impute import SimpleImputer\n",
    "from sklearn.metrics import r2_score\n",
    "from sklearn.decomposition import PCA\n",
    "import xgboost as xgb\n",
    "\n",
    "class MomentumFeature(BaseEstimator, TransformerMixin):\n",
    "\n",
    "    '''\n",
    "\n",
    "    Momentum Feature Transformer\n",
    "\n",
    "    Calculate the momentum of the asset based on the historical returns\n",
    "\n",
    "        mom = rt + rt-1 + ... + rt-w\n",
    "\n",
    "    Parameters\n",
    "    ----------\n",
    "    window: int\n",
    "        the window size we used to compute the momentum\n",
    "\n",
    "\n",
    "    '''\n",
    "\n",
    "    def __init__(self, window):\n",
    "        self.window = window * 20\n",
    "\n",
    "    def fit(self, X, y=None):\n",
    "        return self\n",
    "\n",
    "    def transform(self, X, y=None):\n",
    "\n",
    "        def calc_ret(arr):\n",
    "            if (len(arr) != self.window) or np.isnan(arr[0]) or np.isnan(arr[-1]):\n",
    "                return np.nan\n",
    "            else:\n",
    "                return np.nanprod(arr + 1) - 1\n",
    "\n",
    "        ret_mom_df = X['ret'].rolling(\n",
    "            window=self.window, min_periods=2, closed='left').apply(func=calc_ret, raw=True)\n",
    "        ret_mom_df.name = 'mom_ret_{:d}M'.format(int(self.window/20))\n",
    "        return pd.concat([X, ret_mom_df], axis=1)\n",
    "\n",
    "\n",
    "class RSIFeature(BaseEstimator, TransformerMixin):\n",
    "\n",
    "    '''\n",
    "\n",
    "    Relative Strength Index Feature Transformer\n",
    "    \n",
    "    RSI = 100 - 100 / (1+RS)\n",
    "\n",
    "    See https://en.wikipedia.org/wiki/Relative_strength_index\n",
    "    \n",
    "    Parameters\n",
    "    ----------\n",
    "    window: int\n",
    "        the window size we used to compute the RSI\n",
    "\n",
    "\n",
    "    '''\n",
    "\n",
    "    def __init__(self, window=14):\n",
    "        self.window = window\n",
    "\n",
    "    def fit(self, X, y=None):\n",
    "        return self\n",
    "\n",
    "    def transform(self, X, y=None):\n",
    "\n",
    "        rsi_df = talib.RSI(X['ret'], timeperiod=self.window)\n",
    "        rsi_df.name = 'RSI'\n",
    "        return pd.concat([X, rsi_df], axis=1)\n",
    "    \n",
    "class EMAFeature(BaseEstimator, TransformerMixin):\n",
    "    '''\n",
    "    Exponential Moving Average Feature Transformer\n",
    "    \n",
    "    EMAt = EMAt-1 + a * (rt - EMAt)\n",
    "    \n",
    "    See https://en.wikipedia.org/wiki/Moving_average#Exponentially_weighted_moving_variance_and_standard_deviation\n",
    "    \n",
    "    Parameters\n",
    "    ----------\n",
    "    timeperiod: int\n",
    "        the window size\n",
    "        \n",
    "    '''\n",
    "    \n",
    "    def __init__(self, timeperiod=30):\n",
    "        self.timeperiod = timeperiod\n",
    "\n",
    "    def fit(self, X, y=None):\n",
    "        return self\n",
    "\n",
    "    def transform(self, X, y=None):\n",
    "\n",
    "        ema_df = talib.EMA(X['ret'], timeperiod=self.timeperiod)\n",
    "        ema_df.name = 'EMA_{:d}'.format(self.timeperiod)\n",
    "        return pd.concat([X, ema_df], axis=1)\n",
    "    \n",
    "class OBVFeature(BaseEstimator, TransformerMixin):\n",
    "    '''\n",
    "    On Balance Volume Feature Transformer   \n",
    "    \n",
    "    OBVt = OBVt-1 + Vt * sign(rt)\n",
    "    \n",
    "    See https://en.wikipedia.org/wiki/On-balance_volume\n",
    "    '''\n",
    "    \n",
    "    def __init__(self):\n",
    "        pass\n",
    "\n",
    "    def fit(self, X, y=None):\n",
    "        return self\n",
    "\n",
    "    def transform(self, X, y=None):\n",
    "\n",
    "        obv_df = talib.OBV(X['ret'].cumsum(), X['vol'])\n",
    "        obv_df.name = 'OBV'\n",
    "        return pd.concat([X, obv_df], axis=1)\n",
    "    \n",
    "class VolatilityFeature(BaseEstimator, TransformerMixin):\n",
    "    '''\n",
    "    Rolling Volatility Feature Transformer\n",
    "    \n",
    "    Estimated by rolling standard deviation\n",
    "    \n",
    "    Parameters\n",
    "    ----------\n",
    "    timeperiod: int\n",
    "        the window size\n",
    "    '''\n",
    "    \n",
    "    def __init__(self, timeperiod=30):\n",
    "        self.timeperiod = timeperiod\n",
    "\n",
    "    def fit(self, X, y=None):\n",
    "        return self\n",
    "\n",
    "    def transform(self, X, y=None):\n",
    "\n",
    "        vol_df = X['ret'].rolling(window=self.timeperiod).std()\n",
    "        vol_df.name = 'Volatility_{:d}'.format(self.timeperiod)\n",
    "        return pd.concat([X, vol_df], axis=1)\n",
    "    \n",
    "class SmartMoneyFeature(BaseEstimator, TransformerMixin):\n",
    "    '''\n",
    "    Modified Smart Money Feature Transformer\n",
    "    \n",
    "    SMt = max_{t-w}^t |Ri| / sqrt(Vt)\n",
    "    \n",
    "    Explaination: Small volume with large return might be made by a smart trader\n",
    "    \n",
    "    Parameters\n",
    "    ----------\n",
    "    timeperiod: int\n",
    "        the window size\n",
    "    '''\n",
    "    \n",
    "    def __init__(self, timeperiod=10):\n",
    "        self.timeperiod = timeperiod\n",
    "\n",
    "    def fit(self, X, y=None):\n",
    "        \n",
    "        return self\n",
    "\n",
    "    def transform(self, X, y=None):\n",
    "\n",
    "        sm_df = X['ret'].abs().rolling(self.timeperiod).max() / np.sqrt(1+X['vol'].fillna(value=0, inplace=False))\n",
    "        sm_df.name = 'SM'\n",
    "        return pd.concat([X, sm_df], axis=1)"
   ]
  },
  {
   "cell_type": "markdown",
   "metadata": {},
   "source": [
    "## Use different ML models\n",
    "\n",
    "In order to try different machine learing models without modifying too much code, we used scikit-learn's API of different machine learning models as the end of our ML pipeline. We chose the following models since they are popular, explainable and fast to train.\n",
    "\n",
    "- Linear Regression\n",
    "- Ridge Regression\n",
    "- Lasso Regression\n",
    "- XGBoost Regressor"
   ]
  },
  {
   "cell_type": "code",
   "execution_count": 39,
   "metadata": {
    "execution": {
     "iopub.execute_input": "2021-04-04T17:47:39.629025Z",
     "iopub.status.busy": "2021-04-04T17:47:39.628948Z",
     "iopub.status.idle": "2021-04-04T17:47:39.634143Z",
     "shell.execute_reply": "2021-04-04T17:47:39.633805Z",
     "shell.execute_reply.started": "2021-04-04T17:47:39.629016Z"
    },
    "tags": []
   },
   "outputs": [],
   "source": [
    "def fit_predict(spdata, regressor_pipe):\n",
    "    '''\n",
    "    Fit the training data and predict on the test data\n",
    "    \n",
    "    Parameters\n",
    "    ----------\n",
    "    spdata: dataframe\n",
    "        the price-volume dataset of each stock on each date\n",
    "        \n",
    "    regressor_pipe: list of tuple (name, transformer/estimator)\n",
    "        a list containing the pipeline we need for the ML model\n",
    "        for example some model might need a PCA before training\n",
    "        while the others doesn't need. So we maintain the \n",
    "        flexibility. Again if we want to add/remove some features\n",
    "        as can also insert our own transformer into the regressor_pipe\n",
    "        \n",
    "    Returns\n",
    "    ---------\n",
    "    predicted_results: dataframe\n",
    "        Datafreame containing the origial target, predicted target, aligned \n",
    "        by the index\n",
    "    \n",
    "    '''\n",
    "\n",
    "    predicted_results = pd.DataFrame()\n",
    "\n",
    "    for permno, permno_df in tqdm(spdata.groupby('permno')):\n",
    "\n",
    "        X = permno_df.set_index('date')[['vol', 'ret']]\n",
    "        y = permno_df.set_index('date')['neu_ret'].shift(\n",
    "            periods=-1).fillna(value=0)\n",
    "\n",
    "        X_train, X_test = X[:'2016-01-01'], X['2016-01-01':'2020-12-31']\n",
    "        # '2020-12-31'\n",
    "        y_train, y_test = y[:'2016-01-01'], y['2016-01-01':'2020-12-31']\n",
    "\n",
    "        # pipeline steps in our model\n",
    "        steps = []\n",
    "\n",
    "        # add some momentum features into our data\n",
    "        for i in range(1, 25):\n",
    "            name = 'mom {:d}M'.format(i)\n",
    "            steps.append((name, MomentumFeature(window=i)))\n",
    "\n",
    "        # we can add more technical indicators as features\n",
    "        # RSI\n",
    "        steps.append(('RSI', RSIFeature()))\n",
    "        # EMA\n",
    "        steps.append(('EMA', EMAFeature()))\n",
    "        # OBV\n",
    "        steps.append(('OBV', OBVFeature()))\n",
    "        # Volatility\n",
    "        steps.append(('Volatility', VolatilityFeature()))\n",
    "        # Smart Money\n",
    "        steps.append(('SM', SmartMoneyFeature()))\n",
    "        \n",
    "        # impute the missing value by th median of the training set\n",
    "        steps.append(('imputer', SimpleImputer(strategy='median')))\n",
    "        # standard scaling (mean=0, std=1)\n",
    "        steps.append(('scaler', StandardScaler()))\n",
    "        \n",
    "        # add the regressor steps from the regressor pipeline\n",
    "        for step in regressor_pipe:\n",
    "            steps.append(step)\n",
    "\n",
    "        pipe = Pipeline(steps)\n",
    "        pipe.fit(X_train, y_train)\n",
    "        y_pred = pipe.predict(X_test)\n",
    "\n",
    "        temp = pd.concat([pd.DataFrame(y_test.index),\n",
    "                          pd.DataFrame(y_pred)], axis=1)\n",
    "        temp.columns = ['date', 'neu_ret_pred']\n",
    "        temp['neu_ret_pred'] = temp['neu_ret_pred'].shift(1)\n",
    "        temp['permno'] = permno\n",
    "        predicted_results = pd.concat([predicted_results, temp])\n",
    "\n",
    "    predicted_results.set_index(['date', 'permno'], inplace=True)\n",
    "    ret = pd.concat([spdata.loc[:, ['date', 'permno', 'neu_ret']].set_index(\n",
    "        ['date', 'permno']), predicted_results], join='inner', axis=1)\n",
    "    ret.dropna(inplace=True)\n",
    "    return ret\n"
   ]
  },
  {
   "cell_type": "markdown",
   "metadata": {},
   "source": [
    "## Model Performance Measure\n",
    "\n",
    "After we have the predicted return $\\hat{\\epsilon}_{j, t}$ for stock $j$ on date $t$, we can run a panel regression with intercept to see the performance.\n",
    "\n",
    "$$\n",
    "\\epsilon_{j, t} = \\beta_0 + \\beta_1 \\hat{\\epsilon}_{j, t}\n",
    "$$\n",
    "\n",
    "We used `linearmodels`'s implementation of panel regression. Notice that using `cov_type = 'kernel'` will give us the newey-west adjusted t statistics ([doc](https://bashtage.github.io/linearmodels/panel/panel/linearmodels.panel.model.PanelOLS.fit.html#linearmodels.panel.model.PanelOLS.fit))."
   ]
  },
  {
   "cell_type": "code",
   "execution_count": 40,
   "metadata": {
    "execution": {
     "iopub.execute_input": "2021-04-04T17:47:39.634799Z",
     "iopub.status.busy": "2021-04-04T17:47:39.634706Z",
     "iopub.status.idle": "2021-04-04T17:47:39.637214Z",
     "shell.execute_reply": "2021-04-04T17:47:39.636932Z",
     "shell.execute_reply.started": "2021-04-04T17:47:39.634786Z"
    },
    "tags": []
   },
   "outputs": [],
   "source": [
    "def model_performance(true_y, predicted_y, mode='PanelOLS', verbose=False):\n",
    "    # choose certain panel regression method to compare the predicted signal and true signal\n",
    "\n",
    "    exog = sm.add_constant(predicted_y)\n",
    "    dependent = true_y\n",
    "    if mode == 'RandomEffects':\n",
    "        mod = RandomEffects(dependent, exog)\n",
    "    else:\n",
    "        mod = PanelOLS(dependent, exog)\n",
    "    # use covariance type = 'kernel' similar to the newey-west cov matrix (doc)\n",
    "    model = mod.fit(cov_type='kernel')\n",
    "    if verbose:\n",
    "        print(model)  # see newey-west t-statistics from the summary\n",
    "    predicted_results = model.predict(exog=exog)\n",
    "    return r2_score(true_y, predicted_results)"
   ]
  },
  {
   "cell_type": "markdown",
   "metadata": {},
   "source": [
    "As we can see xgboost model beats the linear models in both the r-squared (1 bp vs 0.1 bp) as well as the t-stat inference (`p-value` < 0.05). Note that we used PCA in both the linear model and the penalized linear model to avoid the multicollinearity."
   ]
  },
  {
   "cell_type": "code",
   "execution_count": 41,
   "metadata": {
    "execution": {
     "iopub.execute_input": "2021-04-04T17:47:39.637745Z",
     "iopub.status.busy": "2021-04-04T17:47:39.637680Z",
     "iopub.status.idle": "2021-04-04T17:50:19.863827Z",
     "shell.execute_reply": "2021-04-04T17:50:19.863526Z",
     "shell.execute_reply.started": "2021-04-04T17:47:39.637736Z"
    },
    "tags": []
   },
   "outputs": [
    {
     "name": "stderr",
     "output_type": "stream",
     "text": [
      "100%|██████████| 262/262 [02:35<00:00,  1.68it/s]\n"
     ]
    },
    {
     "name": "stdout",
     "output_type": "stream",
     "text": [
      "                          PanelOLS Estimation Summary                           \n",
      "================================================================================\n",
      "Dep. Variable:                neu_ret   R-squared:                     3.641e-05\n",
      "Estimator:                   PanelOLS   R-squared (Between):              0.0006\n",
      "No. Observations:              329596   R-squared (Within):             3.42e-05\n",
      "Date:                Sun, Apr 04 2021   R-squared (Overall):           3.641e-05\n",
      "Time:                        13:50:19   Log-likelihood                 9.507e+05\n",
      "Cov. Estimator:        Driscoll-Kraay                                           \n",
      "                                        F-statistic:                      12.000\n",
      "Entities:                        1259   P-value                           0.0005\n",
      "Avg Obs:                       261.79   Distribution:                F(1,329594)\n",
      "Min Obs:                       0.0000                                           \n",
      "Max Obs:                       262.00   F-statistic (robust):             2.6562\n",
      "                                        P-value                           0.1031\n",
      "Time periods:                     262   Distribution:                F(1,329594)\n",
      "Avg Obs:                       1258.0                                           \n",
      "Min Obs:                       1258.0                                           \n",
      "Max Obs:                       1258.0                                           \n",
      "                                                                                \n",
      "                              Parameter Estimates                               \n",
      "================================================================================\n",
      "              Parameter  Std. Err.     T-stat    P-value    Lower CI    Upper CI\n",
      "--------------------------------------------------------------------------------\n",
      "const         3.355e-05  2.436e-05     1.3771     0.1685   -1.42e-05    8.13e-05\n",
      "neu_ret_pred     0.0299     0.0183     1.6298     0.1031     -0.0061      0.0658\n",
      "================================================================================\n",
      "\n",
      "\n"
     ]
    }
   ],
   "source": [
    "predicted_results = fit_predict(spdata, regressor_pipe=[('pca', PCA(n_components='mle', random_state=42)), \n",
    "                                                        ('lm', LinearRegression())])\n",
    "model_performance(predicted_results.neu_ret,\n",
    "                  predicted_results.neu_ret_pred, mode='PanelOLS', verbose=True);"
   ]
  },
  {
   "cell_type": "code",
   "execution_count": 42,
   "metadata": {
    "execution": {
     "iopub.execute_input": "2021-04-04T17:50:19.864451Z",
     "iopub.status.busy": "2021-04-04T17:50:19.864379Z",
     "iopub.status.idle": "2021-04-04T17:53:00.008479Z",
     "shell.execute_reply": "2021-04-04T17:53:00.008175Z",
     "shell.execute_reply.started": "2021-04-04T17:50:19.864442Z"
    },
    "tags": []
   },
   "outputs": [
    {
     "name": "stderr",
     "output_type": "stream",
     "text": [
      "100%|██████████| 262/262 [02:35<00:00,  1.68it/s]\n"
     ]
    },
    {
     "name": "stdout",
     "output_type": "stream",
     "text": [
      "                          PanelOLS Estimation Summary                           \n",
      "================================================================================\n",
      "Dep. Variable:                neu_ret   R-squared:                     3.708e-05\n",
      "Estimator:                   PanelOLS   R-squared (Between):              0.0006\n",
      "No. Observations:              329596   R-squared (Within):            3.477e-05\n",
      "Date:                Sun, Apr 04 2021   R-squared (Overall):           3.708e-05\n",
      "Time:                        13:52:59   Log-likelihood                 9.507e+05\n",
      "Cov. Estimator:        Driscoll-Kraay                                           \n",
      "                                        F-statistic:                      12.221\n",
      "Entities:                        1259   P-value                           0.0005\n",
      "Avg Obs:                       261.79   Distribution:                F(1,329594)\n",
      "Min Obs:                       0.0000                                           \n",
      "Max Obs:                       262.00   F-statistic (robust):             2.7475\n",
      "                                        P-value                           0.0974\n",
      "Time periods:                     262   Distribution:                F(1,329594)\n",
      "Avg Obs:                       1258.0                                           \n",
      "Min Obs:                       1258.0                                           \n",
      "Max Obs:                       1258.0                                           \n",
      "                                                                                \n",
      "                              Parameter Estimates                               \n",
      "================================================================================\n",
      "              Parameter  Std. Err.     T-stat    P-value    Lower CI    Upper CI\n",
      "--------------------------------------------------------------------------------\n",
      "const         3.371e-05  2.438e-05     1.3826     0.1668  -1.408e-05    8.15e-05\n",
      "neu_ret_pred     0.0309     0.0187     1.6576     0.0974     -0.0056      0.0675\n",
      "================================================================================\n",
      "\n",
      "\n"
     ]
    }
   ],
   "source": [
    "predicted_results = fit_predict(spdata, regressor_pipe=[('pca', PCA(n_components='mle', random_state=42)),\n",
    "                                                        ('ridge', Ridge(alpha=10))])\n",
    "model_performance(predicted_results.neu_ret,\n",
    "                  predicted_results.neu_ret_pred, mode='PanelOLS', verbose=True);"
   ]
  },
  {
   "cell_type": "code",
   "execution_count": 43,
   "metadata": {
    "execution": {
     "iopub.execute_input": "2021-04-04T17:53:00.009052Z",
     "iopub.status.busy": "2021-04-04T17:53:00.008986Z",
     "iopub.status.idle": "2021-04-04T17:55:39.903068Z",
     "shell.execute_reply": "2021-04-04T17:55:39.902770Z",
     "shell.execute_reply.started": "2021-04-04T17:53:00.009043Z"
    },
    "tags": []
   },
   "outputs": [
    {
     "name": "stderr",
     "output_type": "stream",
     "text": [
      "100%|██████████| 262/262 [02:35<00:00,  1.68it/s]\n"
     ]
    },
    {
     "name": "stdout",
     "output_type": "stream",
     "text": [
      "                          PanelOLS Estimation Summary                           \n",
      "================================================================================\n",
      "Dep. Variable:                neu_ret   R-squared:                     8.017e-06\n",
      "Estimator:                   PanelOLS   R-squared (Between):              0.0000\n",
      "No. Observations:              329596   R-squared (Within):            8.047e-06\n",
      "Date:                Sun, Apr 04 2021   R-squared (Overall):           8.017e-06\n",
      "Time:                        13:55:39   Log-likelihood                 9.507e+05\n",
      "Cov. Estimator:        Driscoll-Kraay                                           \n",
      "                                        F-statistic:                      2.6422\n",
      "Entities:                        1259   P-value                           0.1041\n",
      "Avg Obs:                       261.79   Distribution:                F(1,329594)\n",
      "Min Obs:                       0.0000                                           \n",
      "Max Obs:                       262.00   F-statistic (robust):             1.6237\n",
      "                                        P-value                           0.2026\n",
      "Time periods:                     262   Distribution:                F(1,329594)\n",
      "Avg Obs:                       1258.0                                           \n",
      "Min Obs:                       1258.0                                           \n",
      "Max Obs:                       1258.0                                           \n",
      "                                                                                \n",
      "                              Parameter Estimates                               \n",
      "================================================================================\n",
      "              Parameter  Std. Err.     T-stat    P-value    Lower CI    Upper CI\n",
      "--------------------------------------------------------------------------------\n",
      "const         1.418e-05  2.455e-05     0.5775     0.5636  -3.394e-05   6.229e-05\n",
      "neu_ret_pred     0.1609     0.1263     1.2742     0.2026     -0.0866      0.4085\n",
      "================================================================================\n",
      "\n",
      "\n"
     ]
    }
   ],
   "source": [
    "predicted_results = fit_predict(spdata, regressor_pipe=[('pca', PCA(n_components='mle', random_state=42)),\n",
    "                                                        ('lasso', Lasso(alpha=10))])\n",
    "model_performance(predicted_results.neu_ret,\n",
    "                  predicted_results.neu_ret_pred, mode='PanelOLS', verbose=True);"
   ]
  },
  {
   "cell_type": "code",
   "execution_count": 44,
   "metadata": {
    "execution": {
     "iopub.execute_input": "2021-04-04T17:55:39.903700Z",
     "iopub.status.busy": "2021-04-04T17:55:39.903633Z",
     "iopub.status.idle": "2021-04-04T17:58:41.841774Z",
     "shell.execute_reply": "2021-04-04T17:58:41.841477Z",
     "shell.execute_reply.started": "2021-04-04T17:55:39.903691Z"
    },
    "tags": []
   },
   "outputs": [
    {
     "name": "stderr",
     "output_type": "stream",
     "text": [
      "100%|██████████| 262/262 [02:57<00:00,  1.48it/s]\n"
     ]
    },
    {
     "name": "stdout",
     "output_type": "stream",
     "text": [
      "                          PanelOLS Estimation Summary                           \n",
      "================================================================================\n",
      "Dep. Variable:                neu_ret   R-squared:                        0.0001\n",
      "Estimator:                   PanelOLS   R-squared (Between):             -0.0083\n",
      "No. Observations:              329596   R-squared (Within):               0.0002\n",
      "Date:                Sun, Apr 04 2021   R-squared (Overall):              0.0001\n",
      "Time:                        13:58:41   Log-likelihood                 9.507e+05\n",
      "Cov. Estimator:        Driscoll-Kraay                                           \n",
      "                                        F-statistic:                      43.849\n",
      "Entities:                        1259   P-value                           0.0000\n",
      "Avg Obs:                       261.79   Distribution:                F(1,329594)\n",
      "Min Obs:                       0.0000                                           \n",
      "Max Obs:                       262.00   F-statistic (robust):             15.976\n",
      "                                        P-value                           0.0001\n",
      "Time periods:                     262   Distribution:                F(1,329594)\n",
      "Avg Obs:                       1258.0                                           \n",
      "Min Obs:                       1258.0                                           \n",
      "Max Obs:                       1258.0                                           \n",
      "                                                                                \n",
      "                              Parameter Estimates                               \n",
      "================================================================================\n",
      "              Parameter  Std. Err.     T-stat    P-value    Lower CI    Upper CI\n",
      "--------------------------------------------------------------------------------\n",
      "const        -7.267e-05    2.5e-05    -2.9062     0.0037     -0.0001  -2.366e-05\n",
      "neu_ret_pred     0.0228     0.0057     3.9970     0.0001      0.0116      0.0339\n",
      "================================================================================\n",
      "\n",
      "\n",
      "r-squared = 0.000133\n"
     ]
    }
   ],
   "source": [
    "xgb_reg = xgb.XGBRegressor(learning_rate=0.05, reg_lambda=4, colsample_bytree=0.6, random_state=42)\n",
    "predicted_results = fit_predict(spdata, regressor_pipe=[('xgb', xgb_reg)])\n",
    "r2 = model_performance(predicted_results.neu_ret,\n",
    "                       predicted_results.neu_ret_pred, mode='PanelOLS', verbose=True)\n",
    "print('r-squared = {:.6f}'.format(r2))"
   ]
  },
  {
   "cell_type": "markdown",
   "metadata": {},
   "source": [
    "## Mean Variance Optimization\n",
    "\n",
    "Finally we're going to apply the mean-variance optimzation to construct the portfolio based on our prediction. Everyday $t$ the optimization problem is as follows\n",
    "\n",
    "$$\n",
    "\\begin{aligned}\n",
    "    \\min_\\omega & & \\omega^T \\Omega_t \\omega \\\\\n",
    "    \\mathrm{s.t.} & & \\omega^T\\mu_t = a\\\\\n",
    "                 & & \\omega^T \\iota = 1\\\\\n",
    "\\end{aligned}\n",
    "$$\n",
    "\n",
    "where $\\omega$ is the dollar holding of the portfolio, $\\Omega_t$ is the covariance matrix that we estimated, $\\mu_t$ is the expected return of the portfolio. Here we use $\\mu = \\hat{\\epsilon_{t+1}}$, lastly we require the holding is normalized $\\iota = (1,1,...,1)^T$.\n",
    "\n",
    "We may solve the problem to obtain the optimal choice of the weights:\n",
    "\n",
    "$$\n",
    "\\omega = v_1 + a v_2\n",
    "$$\n",
    "\n",
    "where\n",
    "\n",
    "$$\n",
    "\\begin{aligned}\n",
    "    v_1 &= \\frac{1}{D} [B\\Omega_t^{-1}\\iota - A\\Omega_t^{-1}\\mu_t]\\\\\n",
    "    v_2 &= \\frac{1}{D} [C\\Omega_t^{-1}\\mu - A\\Omega_t^{-1}\\iota]\\\\\n",
    "\\end{aligned}\n",
    "$$\n",
    "\n",
    "$A = \\iota^T\\Omega_t^{-1}\\mu, B=\\mu^T\\Omega_t^{-1}\\mu, C=\\iota^T\\Omega^{-1}_t\\iota, D=BC-A^2$"
   ]
  },
  {
   "cell_type": "code",
   "execution_count": 45,
   "metadata": {
    "execution": {
     "iopub.execute_input": "2021-04-04T17:58:41.842468Z",
     "iopub.status.busy": "2021-04-04T17:58:41.842395Z",
     "iopub.status.idle": "2021-04-04T17:58:41.848349Z",
     "shell.execute_reply": "2021-04-04T17:58:41.848058Z",
     "shell.execute_reply.started": "2021-04-04T17:58:41.842459Z"
    },
    "tags": []
   },
   "outputs": [],
   "source": [
    "sorted_dates = pd.to_datetime(np.sort(pd.unique(spdata.date)))\n",
    "sorted_dates = sorted_dates.to_frame().reset_index(drop=True)\n",
    "sorted_dates.columns = ['date']"
   ]
  },
  {
   "cell_type": "code",
   "execution_count": 46,
   "metadata": {
    "execution": {
     "iopub.execute_input": "2021-04-04T17:58:41.848943Z",
     "iopub.status.busy": "2021-04-04T17:58:41.848877Z",
     "iopub.status.idle": "2021-04-04T17:58:41.851693Z",
     "shell.execute_reply": "2021-04-04T17:58:41.851303Z",
     "shell.execute_reply.started": "2021-04-04T17:58:41.848935Z"
    },
    "tags": []
   },
   "outputs": [],
   "source": [
    "def cov_cal(date, delta_t, sorted_dates=sorted_dates):\n",
    "    '''\n",
    "    estimate the covariance matrix by sample covariance\n",
    "    '''\n",
    "    start_day_index = sorted_dates[sorted_dates['date']\n",
    "                                   == date].index.values[0]\n",
    "    temp = pd.DataFrame()\n",
    "    col_name = []\n",
    "    for permno, permno_df in spdata.groupby('permno'):\n",
    "        permno_df.reset_index(inplace=True)\n",
    "        permno_df.set_index('date', inplace=True)\n",
    "        temp_df = permno_df.loc[:, 'neu_ret']\n",
    "        temp_df = temp_df.iloc[(start_day_index - delta_t+1):(start_day_index+1)]\n",
    "        col_name.append(permno)\n",
    "        temp = pd.concat([temp, temp_df], axis=1)\n",
    "    temp.columns = col_name\n",
    "    return temp.cov()"
   ]
  },
  {
   "cell_type": "code",
   "execution_count": 49,
   "metadata": {
    "execution": {
     "iopub.execute_input": "2021-04-04T17:59:21.226338Z",
     "iopub.status.busy": "2021-04-04T17:59:21.225912Z",
     "iopub.status.idle": "2021-04-04T17:59:21.243711Z",
     "shell.execute_reply": "2021-04-04T17:59:21.242914Z",
     "shell.execute_reply.started": "2021-04-04T17:59:21.226290Z"
    },
    "tags": []
   },
   "outputs": [],
   "source": [
    "def mean_variance_opt(mu, sigma, expected_ret):\n",
    "    '''\n",
    "    Mean Variance Optimization\n",
    "    \n",
    "    Parameters\n",
    "    ----------\n",
    "    mu: array like\n",
    "        the cross-sectional expected return\n",
    "        \n",
    "    sigma : matrix like\n",
    "        the cross-sectional covariance matrix\n",
    "        \n",
    "    expected_ret: float\n",
    "        the target of the leading day expected return \n",
    "        \n",
    "    Returns\n",
    "    ---------\n",
    "    w: array like\n",
    "        dollar holding of the portfolio next day. \n",
    "    '''\n",
    "    n = len(mu)\n",
    "    Smu = np.linalg.solve(sigma, mu)\n",
    "    Siota = np.linalg.solve(sigma, np.ones(n))\n",
    "\n",
    "    A = Smu.sum()\n",
    "    B = np.dot(mu, Smu)\n",
    "    C = Siota.sum()\n",
    "    D = B*C - A*A\n",
    "\n",
    "    w = (B*Siota-A*Smu)/D+(C*Smu-A*Siota)/D*expected_ret\n",
    "\n",
    "    return w\n",
    "\n",
    "\n",
    "def get_return(w, net_ret):\n",
    "    return np.dot(w, net_ret)\n",
    "\n",
    "\n",
    "def get_pnl(daily_ret):\n",
    "    return np.cumsum(daily_ret)"
   ]
  },
  {
   "cell_type": "markdown",
   "metadata": {},
   "source": [
    "We do backtest as follows:\n",
    "\n",
    "1. On everday, we first get the predicted market-industry netrual return $\\hat{\\epsilon}$ from ML model\n",
    "2. Set $\\mu = \\hat{\\epsilon}$\n",
    "3. Set $\\Omega = I$ instead of sample covariance. This method was suggested by my previous boss during internship.\n",
    "4. Run optimization and get holdings $\\omega$\n",
    "5. PnL = $\\omega \\cdot \\epsilon$"
   ]
  },
  {
   "cell_type": "code",
   "execution_count": 49,
   "metadata": {
    "execution": {
     "iopub.execute_input": "2021-04-04T17:59:21.226338Z",
     "iopub.status.busy": "2021-04-04T17:59:21.225912Z",
     "iopub.status.idle": "2021-04-04T17:59:21.243711Z",
     "shell.execute_reply": "2021-04-04T17:59:21.242914Z",
     "shell.execute_reply.started": "2021-04-04T17:59:21.226290Z"
    },
    "tags": []
   },
   "outputs": [],
   "source": [
    "def backtest(data, cov_type='identity', optimizer=mean_variance_opt, expected_ret=0.0005, delta_t=300, plot=True):\n",
    "    \n",
    "    '''\n",
    "    backtest\n",
    "    \n",
    "    run mean-variance everyday to construct the portfolio\n",
    "    \n",
    "    Parameters\n",
    "    ----------\n",
    "    data: dataframe\n",
    "        the dataframe contains predicted return, true return with multi-index\n",
    "        \n",
    "    cov_type: str\n",
    "        how to construct the covariance matrix\n",
    "        \n",
    "    optimizer: object\n",
    "        optimization function to do the optimization\n",
    "        \n",
    "    expected_ret: float\n",
    "        the target of the leading day expected return \n",
    "        \n",
    "    delta_t: int\n",
    "        window size to compute the sample covariance\n",
    "        \n",
    "    plot: Bool\n",
    "        if plot = True, plot the historical PnL\n",
    "        \n",
    "        \n",
    "    Returns\n",
    "    ---------\n",
    "    pnl: array like\n",
    "        historical PnL \n",
    "    '''\n",
    "    \n",
    "    rs = []\n",
    "    for date, df_date in tqdm(data.groupby('date')):\n",
    "        mu = df_date['neu_ret_pred']\n",
    "        if cov_type == 'identity':\n",
    "            sigma = np.identity(df_date.shape[0])\n",
    "        else:\n",
    "            sigma = cov_cal(date, delta_t)\n",
    "        w = mean_variance_opt(mu, sigma, expected_ret)\n",
    "        r = get_return(w, df_date['neu_ret'])\n",
    "        rs.append(r)\n",
    "    pnl = pd.DataFrame(get_pnl(rs), index=pd.to_datetime(\n",
    "        np.sort(pd.unique(data.index.to_frame().date))))\n",
    "\n",
    "    if plot == True:\n",
    "\n",
    "        fig, ax = plt.subplots(figsize=(15, 5))\n",
    "        ax.plot(pnl)\n",
    "        ax.set_xlabel('Date')\n",
    "        ax.set_ylabel('P&L')\n",
    "\n",
    "    return pnl"
   ]
  },
  {
   "cell_type": "code",
   "execution_count": 76,
   "metadata": {
    "execution": {
     "iopub.execute_input": "2021-04-04T19:09:29.102484Z",
     "iopub.status.busy": "2021-04-04T19:09:29.102035Z",
     "iopub.status.idle": "2021-04-04T19:09:31.518008Z",
     "shell.execute_reply": "2021-04-04T19:09:31.517726Z",
     "shell.execute_reply.started": "2021-04-04T19:09:29.102436Z"
    },
    "tags": []
   },
   "outputs": [
    {
     "name": "stderr",
     "output_type": "stream",
     "text": [
      "100%|██████████| 1258/1258 [00:02<00:00, 543.51it/s]\n"
     ]
    },
    {
     "data": {
      "image/png": "[encoded data removed]",
      "text/plain": [
       "<Figure size 1080x360 with 1 Axes>"
      ]
     },
     "metadata": {
      "needs_background": "light"
     },
     "output_type": "display_data"
    }
   ],
   "source": [
    "pl = backtest(predicted_results, expected_ret=0.1, delta_t=300)"
   ]
  },
  {
   "cell_type": "code",
   "execution_count": 77,
   "metadata": {
    "execution": {
     "iopub.execute_input": "2021-04-04T19:09:33.307822Z",
     "iopub.status.busy": "2021-04-04T19:09:33.307387Z",
     "iopub.status.idle": "2021-04-04T19:09:33.333529Z",
     "shell.execute_reply": "2021-04-04T19:09:33.333091Z",
     "shell.execute_reply.started": "2021-04-04T19:09:33.307774Z"
    },
    "tags": []
   },
   "outputs": [
    {
     "data": {
      "text/html": [
       "<div>\n",
       "<style scoped>\n",
       "    .dataframe tbody tr th:only-of-type {\n",
       "        vertical-align: middle;\n",
       "    }\n",
       "\n",
       "    .dataframe tbody tr th {\n",
       "        vertical-align: top;\n",
       "    }\n",
       "\n",
       "    .dataframe thead th {\n",
       "        text-align: right;\n",
       "    }\n",
       "</style>\n",
       "<table border=\"1\" class=\"dataframe\">\n",
       "  <thead>\n",
       "    <tr style=\"text-align: right;\">\n",
       "      <th></th>\n",
       "      <th>mean daily ret</th>\n",
       "      <th>t value</th>\n",
       "      <th>p value</th>\n",
       "      <th>annualized ret</th>\n",
       "      <th>annualized vol</th>\n",
       "      <th>Sharpe ratio</th>\n",
       "      <th>Win ratio</th>\n",
       "      <th>Max drawdown</th>\n",
       "    </tr>\n",
       "  </thead>\n",
       "  <tbody>\n",
       "    <tr>\n",
       "      <th>factor-mimicking portfolio</th>\n",
       "      <td>0.002279</td>\n",
       "      <td>3.275196</td>\n",
       "      <td>0.001085</td>\n",
       "      <td>0.645004</td>\n",
       "      <td>0.391461</td>\n",
       "      <td>1.647684</td>\n",
       "      <td>0.519491</td>\n",
       "      <td>0.473754</td>\n",
       "    </tr>\n",
       "  </tbody>\n",
       "</table>\n",
       "</div>"
      ],
      "text/plain": [
       "                           mean daily ret   t value   p value annualized ret  \\\n",
       "factor-mimicking portfolio       0.002279  3.275196  0.001085       0.645004   \n",
       "\n",
       "                           annualized vol Sharpe ratio Win ratio Max drawdown  \n",
       "factor-mimicking portfolio       0.391461     1.647684  0.519491     0.473754  "
      ]
     },
     "execution_count": 77,
     "metadata": {},
     "output_type": "execute_result"
    }
   ],
   "source": [
    "backtest_evaluation(np.squeeze(pl.diff(1).dropna().values))"
   ]
  },
  {
   "cell_type": "markdown",
   "metadata": {
    "tags": []
   },
   "source": [
    "The strategy has annulized return of 60%, this is reasonable since the transcation cost, market impact and slippage will eat more than a half of our profit. Sharpe Ratio is 1.5, so it's a moderate strategy. Since we have only a week to do the alpha research without extensive EDA and backtest, this result is acceptable."
   ]
  }
 ],
 "metadata": {
  "kernelspec": {
   "display_name": "Python 3",
   "language": "python",
   "name": "python3"
  },
  "language_info": {
   "codemirror_mode": {
    "name": "ipython",
    "version": 3
   },
   "file_extension": ".py",
   "mimetype": "text/x-python",
   "name": "python",
   "nbconvert_exporter": "python",
   "pygments_lexer": "ipython3",
   "version": "3.9.1"
  },
  "toc": {
   "base_numbering": 1,
   "nav_menu": {},
   "number_sections": true,
   "sideBar": true,
   "skip_h1_title": false,
   "title_cell": "Table of Contents",
   "title_sidebar": "Contents",
   "toc_cell": false,
   "toc_position": {
    "height": "calc(100% - 180px)",
    "left": "10px",
    "top": "150px",
    "width": "288px"
   },
   "toc_section_display": true,
   "toc_window_display": false
  },
  "varInspector": {
   "cols": {
    "lenName": 16,
    "lenType": 16,
    "lenVar": 40
   },
   "kernels_config": {
    "python": {
     "delete_cmd_postfix": "",
     "delete_cmd_prefix": "del ",
     "library": "var_list.py",
     "varRefreshCmd": "print(var_dic_list())"
    },
    "r": {
     "delete_cmd_postfix": ") ",
     "delete_cmd_prefix": "rm(",
     "library": "var_list.r",
     "varRefreshCmd": "cat(var_dic_list()) "
    }
   },
   "types_to_exclude": [
    "module",
    "function",
    "builtin_function_or_method",
    "instance",
    "_Feature"
   ],
   "window_display": false
  }
 },
 "nbformat": 4,
 "nbformat_minor": 4
}
